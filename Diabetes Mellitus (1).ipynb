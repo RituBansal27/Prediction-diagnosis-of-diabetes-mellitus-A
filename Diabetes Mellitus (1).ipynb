{
 "cells": [
  {
   "cell_type": "markdown",
   "metadata": {},
   "source": [
    "## Problem Statement.\n",
    "* Diabetes Mellitus is one of the deadliest diseases all over the world.\n",
    "* It is rapidly affecting youth especially women. People are unaware of this danger.\n",
    "* Some patients are already affected but do not realise due to ignorance of symptoms.\n",
    "* Our attempt is to analyse the data and solve the above issues.\n",
    "* To predict diabetes via three different supervised machinelearning methods.\n",
    "* The main objective of this work is to establish an information systemthat provides higher accuracy for\n",
    "    predicting diabetes."
   ]
  },
  {
   "cell_type": "markdown",
   "metadata": {},
   "source": [
    "# Importing necessary libraries."
   ]
  },
  {
   "cell_type": "code",
   "execution_count": 1,
   "metadata": {},
   "outputs": [],
   "source": [
    "import pandas as pd\n",
    "import numpy as np\n",
    "import matplotlib.pyplot as plt\n",
    "import seaborn as sns\n",
    "from sklearn.preprocessing import StandardScaler\n",
    "from sklearn.model_selection import GridSearchCV\n",
    "from sklearn.feature_selection import SelectKBest\n",
    "from sklearn.feature_selection import chi2\n",
    "from sklearn.model_selection import cross_val_score\n",
    "from sklearn.tree import DecisionTreeClassifier\n",
    "from xgboost import XGBClassifier\n",
    "from sklearn.naive_bayes import BernoulliNB, GaussianNB,MultinomialNB\n",
    "from sklearn import svm"
   ]
  },
  {
   "cell_type": "markdown",
   "metadata": {},
   "source": [
    "## Loading dataset"
   ]
  },
  {
   "cell_type": "code",
   "execution_count": 2,
   "metadata": {},
   "outputs": [
    {
     "data": {
      "text/html": [
       "<div>\n",
       "<style scoped>\n",
       "    .dataframe tbody tr th:only-of-type {\n",
       "        vertical-align: middle;\n",
       "    }\n",
       "\n",
       "    .dataframe tbody tr th {\n",
       "        vertical-align: top;\n",
       "    }\n",
       "\n",
       "    .dataframe thead th {\n",
       "        text-align: right;\n",
       "    }\n",
       "</style>\n",
       "<table border=\"1\" class=\"dataframe\">\n",
       "  <thead>\n",
       "    <tr style=\"text-align: right;\">\n",
       "      <th></th>\n",
       "      <th>Class</th>\n",
       "      <th>Class Language</th>\n",
       "      <th>Age</th>\n",
       "      <th>Year</th>\n",
       "      <th>Gender</th>\n",
       "      <th>Insurance Category</th>\n",
       "      <th>Medical Home Category</th>\n",
       "      <th>Race/Ethnicity</th>\n",
       "      <th>Education Level</th>\n",
       "      <th>Diabetes Status (Yes/No)</th>\n",
       "      <th>...</th>\n",
       "      <th>Fruits &amp; Vegetable Consumption</th>\n",
       "      <th>Sugar-Sweetened Beverage Consumption</th>\n",
       "      <th>Food Measurement</th>\n",
       "      <th>Carbohydrate Counting</th>\n",
       "      <th>Exercise</th>\n",
       "      <th>Problem Area in Diabetes (PAID) Scale Score</th>\n",
       "      <th>ZIP code (address)</th>\n",
       "      <th>ZIP code (city)</th>\n",
       "      <th>ZIP code (state)</th>\n",
       "      <th>ZIP code (zip)</th>\n",
       "    </tr>\n",
       "  </thead>\n",
       "  <tbody>\n",
       "    <tr>\n",
       "      <td>0</td>\n",
       "      <td>APH</td>\n",
       "      <td>English</td>\n",
       "      <td>47.0</td>\n",
       "      <td>2016</td>\n",
       "      <td>F</td>\n",
       "      <td>Private insurance</td>\n",
       "      <td>Doctor's Office</td>\n",
       "      <td>American Indian</td>\n",
       "      <td>College</td>\n",
       "      <td>Yes</td>\n",
       "      <td>...</td>\n",
       "      <td>3-4</td>\n",
       "      <td>0</td>\n",
       "      <td>0 days</td>\n",
       "      <td>0 days</td>\n",
       "      <td>1 day</td>\n",
       "      <td>13.75</td>\n",
       "      <td>NaN</td>\n",
       "      <td>NaN</td>\n",
       "      <td>NaN</td>\n",
       "      <td>78741.0</td>\n",
       "    </tr>\n",
       "    <tr>\n",
       "      <td>1</td>\n",
       "      <td>PCHW</td>\n",
       "      <td>Spanish</td>\n",
       "      <td>35.0</td>\n",
       "      <td>2015</td>\n",
       "      <td>F</td>\n",
       "      <td>Other</td>\n",
       "      <td>NaN</td>\n",
       "      <td>Hispanic/Latino</td>\n",
       "      <td>NaN</td>\n",
       "      <td>No</td>\n",
       "      <td>...</td>\n",
       "      <td>1-2</td>\n",
       "      <td>2</td>\n",
       "      <td>I don't know how</td>\n",
       "      <td>I don't know how</td>\n",
       "      <td>1 day</td>\n",
       "      <td>NaN</td>\n",
       "      <td>NaN</td>\n",
       "      <td>NaN</td>\n",
       "      <td>NaN</td>\n",
       "      <td>78758.0</td>\n",
       "    </tr>\n",
       "    <tr>\n",
       "      <td>2</td>\n",
       "      <td>ARCF</td>\n",
       "      <td>English</td>\n",
       "      <td>58.0</td>\n",
       "      <td>2015</td>\n",
       "      <td>F</td>\n",
       "      <td>MediCARE</td>\n",
       "      <td>NaN</td>\n",
       "      <td>Black/African American</td>\n",
       "      <td>1-8</td>\n",
       "      <td>NaN</td>\n",
       "      <td>...</td>\n",
       "      <td>1-2</td>\n",
       "      <td>NaN</td>\n",
       "      <td>NaN</td>\n",
       "      <td>NaN</td>\n",
       "      <td>0 days</td>\n",
       "      <td>NaN</td>\n",
       "      <td>NaN</td>\n",
       "      <td>NaN</td>\n",
       "      <td>NaN</td>\n",
       "      <td>78753.0</td>\n",
       "    </tr>\n",
       "    <tr>\n",
       "      <td>3</td>\n",
       "      <td>PCHW</td>\n",
       "      <td>Spanish</td>\n",
       "      <td>41.0</td>\n",
       "      <td>2015</td>\n",
       "      <td>F</td>\n",
       "      <td>None</td>\n",
       "      <td>No regular place of care</td>\n",
       "      <td>Hispanic/Latino</td>\n",
       "      <td>NaN</td>\n",
       "      <td>No</td>\n",
       "      <td>...</td>\n",
       "      <td>1-2</td>\n",
       "      <td>2</td>\n",
       "      <td>I don't know how</td>\n",
       "      <td>I don't know how</td>\n",
       "      <td>4 days</td>\n",
       "      <td>NaN</td>\n",
       "      <td>NaN</td>\n",
       "      <td>NaN</td>\n",
       "      <td>NaN</td>\n",
       "      <td>78617.0</td>\n",
       "    </tr>\n",
       "    <tr>\n",
       "      <td>4</td>\n",
       "      <td>ARCF</td>\n",
       "      <td>English</td>\n",
       "      <td>56.0</td>\n",
       "      <td>2015</td>\n",
       "      <td>M</td>\n",
       "      <td>None</td>\n",
       "      <td>Emergency Room</td>\n",
       "      <td>NaN</td>\n",
       "      <td>College</td>\n",
       "      <td>No</td>\n",
       "      <td>...</td>\n",
       "      <td>1-2</td>\n",
       "      <td>1</td>\n",
       "      <td>0 days</td>\n",
       "      <td>0 days</td>\n",
       "      <td>0 days</td>\n",
       "      <td>NaN</td>\n",
       "      <td>NaN</td>\n",
       "      <td>NaN</td>\n",
       "      <td>NaN</td>\n",
       "      <td>78720.0</td>\n",
       "    </tr>\n",
       "  </tbody>\n",
       "</table>\n",
       "<p>5 rows × 25 columns</p>\n",
       "</div>"
      ],
      "text/plain": [
       "  Class Class Language   Age  Year Gender Insurance Category  \\\n",
       "0   APH        English  47.0  2016      F  Private insurance   \n",
       "1  PCHW        Spanish  35.0  2015      F              Other   \n",
       "2  ARCF        English  58.0  2015      F           MediCARE   \n",
       "3  PCHW        Spanish  41.0  2015      F               None   \n",
       "4  ARCF        English  56.0  2015      M               None   \n",
       "\n",
       "      Medical Home Category          Race/Ethnicity Education Level  \\\n",
       "0           Doctor's Office         American Indian         College   \n",
       "1                       NaN         Hispanic/Latino             NaN   \n",
       "2                       NaN  Black/African American             1-8   \n",
       "3  No regular place of care         Hispanic/Latino             NaN   \n",
       "4            Emergency Room                     NaN         College   \n",
       "\n",
       "  Diabetes Status (Yes/No)  ... Fruits & Vegetable Consumption  \\\n",
       "0                      Yes  ...                            3-4   \n",
       "1                       No  ...                            1-2   \n",
       "2                      NaN  ...                            1-2   \n",
       "3                       No  ...                            1-2   \n",
       "4                       No  ...                            1-2   \n",
       "\n",
       "  Sugar-Sweetened Beverage Consumption  Food Measurement  \\\n",
       "0                                    0            0 days   \n",
       "1                                    2  I don't know how   \n",
       "2                                  NaN               NaN   \n",
       "3                                    2  I don't know how   \n",
       "4                                    1            0 days   \n",
       "\n",
       "  Carbohydrate Counting Exercise Problem Area in Diabetes (PAID) Scale Score  \\\n",
       "0                0 days    1 day                                       13.75   \n",
       "1      I don't know how    1 day                                         NaN   \n",
       "2                   NaN   0 days                                         NaN   \n",
       "3      I don't know how   4 days                                         NaN   \n",
       "4                0 days   0 days                                         NaN   \n",
       "\n",
       "  ZIP code (address) ZIP code (city) ZIP code (state) ZIP code (zip)  \n",
       "0                NaN             NaN              NaN        78741.0  \n",
       "1                NaN             NaN              NaN        78758.0  \n",
       "2                NaN             NaN              NaN        78753.0  \n",
       "3                NaN             NaN              NaN        78617.0  \n",
       "4                NaN             NaN              NaN        78720.0  \n",
       "\n",
       "[5 rows x 25 columns]"
      ]
     },
     "execution_count": 2,
     "metadata": {},
     "output_type": "execute_result"
    }
   ],
   "source": [
    "data = pd.read_csv('austin-public-health-diabetes-self-management-education-participant-demographics-2015-2017-1.csv')\n",
    "data.head()"
   ]
  },
  {
   "cell_type": "code",
   "execution_count": 3,
   "metadata": {},
   "outputs": [
    {
     "data": {
      "text/plain": [
       "(1688, 25)"
      ]
     },
     "execution_count": 3,
     "metadata": {},
     "output_type": "execute_result"
    }
   ],
   "source": [
    "data.shape"
   ]
  },
  {
   "cell_type": "code",
   "execution_count": 4,
   "metadata": {},
   "outputs": [
    {
     "data": {
      "text/html": [
       "<div>\n",
       "<style scoped>\n",
       "    .dataframe tbody tr th:only-of-type {\n",
       "        vertical-align: middle;\n",
       "    }\n",
       "\n",
       "    .dataframe tbody tr th {\n",
       "        vertical-align: top;\n",
       "    }\n",
       "\n",
       "    .dataframe thead th {\n",
       "        text-align: right;\n",
       "    }\n",
       "</style>\n",
       "<table border=\"1\" class=\"dataframe\">\n",
       "  <thead>\n",
       "    <tr style=\"text-align: right;\">\n",
       "      <th></th>\n",
       "      <th>Age</th>\n",
       "      <th>Year</th>\n",
       "      <th>Problem Area in Diabetes (PAID) Scale Score</th>\n",
       "      <th>ZIP code (address)</th>\n",
       "      <th>ZIP code (city)</th>\n",
       "      <th>ZIP code (state)</th>\n",
       "      <th>ZIP code (zip)</th>\n",
       "    </tr>\n",
       "  </thead>\n",
       "  <tbody>\n",
       "    <tr>\n",
       "      <td>count</td>\n",
       "      <td>1656.000000</td>\n",
       "      <td>1688.000000</td>\n",
       "      <td>632.000000</td>\n",
       "      <td>0.0</td>\n",
       "      <td>0.0</td>\n",
       "      <td>0.0</td>\n",
       "      <td>1513.000000</td>\n",
       "    </tr>\n",
       "    <tr>\n",
       "      <td>mean</td>\n",
       "      <td>49.282609</td>\n",
       "      <td>2016.039692</td>\n",
       "      <td>44.242484</td>\n",
       "      <td>NaN</td>\n",
       "      <td>NaN</td>\n",
       "      <td>NaN</td>\n",
       "      <td>78709.126900</td>\n",
       "    </tr>\n",
       "    <tr>\n",
       "      <td>std</td>\n",
       "      <td>15.194484</td>\n",
       "      <td>0.774650</td>\n",
       "      <td>27.343186</td>\n",
       "      <td>NaN</td>\n",
       "      <td>NaN</td>\n",
       "      <td>NaN</td>\n",
       "      <td>141.785258</td>\n",
       "    </tr>\n",
       "    <tr>\n",
       "      <td>min</td>\n",
       "      <td>16.000000</td>\n",
       "      <td>2015.000000</td>\n",
       "      <td>0.000000</td>\n",
       "      <td>NaN</td>\n",
       "      <td>NaN</td>\n",
       "      <td>NaN</td>\n",
       "      <td>76537.000000</td>\n",
       "    </tr>\n",
       "    <tr>\n",
       "      <td>25%</td>\n",
       "      <td>37.000000</td>\n",
       "      <td>2015.000000</td>\n",
       "      <td>21.250000</td>\n",
       "      <td>NaN</td>\n",
       "      <td>NaN</td>\n",
       "      <td>NaN</td>\n",
       "      <td>78704.000000</td>\n",
       "    </tr>\n",
       "    <tr>\n",
       "      <td>50%</td>\n",
       "      <td>49.000000</td>\n",
       "      <td>2016.000000</td>\n",
       "      <td>41.250000</td>\n",
       "      <td>NaN</td>\n",
       "      <td>NaN</td>\n",
       "      <td>NaN</td>\n",
       "      <td>78737.000000</td>\n",
       "    </tr>\n",
       "    <tr>\n",
       "      <td>75%</td>\n",
       "      <td>60.000000</td>\n",
       "      <td>2017.000000</td>\n",
       "      <td>67.500000</td>\n",
       "      <td>NaN</td>\n",
       "      <td>NaN</td>\n",
       "      <td>NaN</td>\n",
       "      <td>78747.000000</td>\n",
       "    </tr>\n",
       "    <tr>\n",
       "      <td>max</td>\n",
       "      <td>93.000000</td>\n",
       "      <td>2017.000000</td>\n",
       "      <td>100.000000</td>\n",
       "      <td>NaN</td>\n",
       "      <td>NaN</td>\n",
       "      <td>NaN</td>\n",
       "      <td>78783.000000</td>\n",
       "    </tr>\n",
       "  </tbody>\n",
       "</table>\n",
       "</div>"
      ],
      "text/plain": [
       "               Age         Year  Problem Area in Diabetes (PAID) Scale Score  \\\n",
       "count  1656.000000  1688.000000                                   632.000000   \n",
       "mean     49.282609  2016.039692                                    44.242484   \n",
       "std      15.194484     0.774650                                    27.343186   \n",
       "min      16.000000  2015.000000                                     0.000000   \n",
       "25%      37.000000  2015.000000                                    21.250000   \n",
       "50%      49.000000  2016.000000                                    41.250000   \n",
       "75%      60.000000  2017.000000                                    67.500000   \n",
       "max      93.000000  2017.000000                                   100.000000   \n",
       "\n",
       "       ZIP code (address)  ZIP code (city)  ZIP code (state)  ZIP code (zip)  \n",
       "count                 0.0              0.0               0.0     1513.000000  \n",
       "mean                  NaN              NaN               NaN    78709.126900  \n",
       "std                   NaN              NaN               NaN      141.785258  \n",
       "min                   NaN              NaN               NaN    76537.000000  \n",
       "25%                   NaN              NaN               NaN    78704.000000  \n",
       "50%                   NaN              NaN               NaN    78737.000000  \n",
       "75%                   NaN              NaN               NaN    78747.000000  \n",
       "max                   NaN              NaN               NaN    78783.000000  "
      ]
     },
     "execution_count": 4,
     "metadata": {},
     "output_type": "execute_result"
    }
   ],
   "source": [
    "data.describe()"
   ]
  },
  {
   "cell_type": "code",
   "execution_count": 5,
   "metadata": {},
   "outputs": [
    {
     "name": "stdout",
     "output_type": "stream",
     "text": [
      "<class 'pandas.core.frame.DataFrame'>\n",
      "RangeIndex: 1688 entries, 0 to 1687\n",
      "Data columns (total 25 columns):\n",
      "Class                                          1688 non-null object\n",
      "Class Language                                 1688 non-null object\n",
      "Age                                            1656 non-null float64\n",
      "Year                                           1688 non-null int64\n",
      "Gender                                         1651 non-null object\n",
      "Insurance Category                             1575 non-null object\n",
      "Medical Home Category                          1597 non-null object\n",
      "Race/Ethnicity                                 1651 non-null object\n",
      "Education Level                                1399 non-null object\n",
      "Diabetes Status (Yes/No)                       1658 non-null object\n",
      "Heart Disease (Yes/No)                         1588 non-null object\n",
      "High Blood Pressure (Yes/No)                   1595 non-null object\n",
      "Tobacco Use (Yes/No)                           1564 non-null object\n",
      "Previous Diabetes Education (Yes/No)           1563 non-null object\n",
      "Diabetes Knowledge                             1534 non-null object\n",
      "Fruits & Vegetable Consumption                 1636 non-null object\n",
      "Sugar-Sweetened Beverage Consumption           1635 non-null object\n",
      "Food Measurement                               1625 non-null object\n",
      "Carbohydrate Counting                          1622 non-null object\n",
      "Exercise                                       1610 non-null object\n",
      "Problem Area in Diabetes (PAID) Scale Score    632 non-null float64\n",
      "ZIP code (address)                             0 non-null float64\n",
      "ZIP code (city)                                0 non-null float64\n",
      "ZIP code (state)                               0 non-null float64\n",
      "ZIP code (zip)                                 1513 non-null float64\n",
      "dtypes: float64(6), int64(1), object(18)\n",
      "memory usage: 329.8+ KB\n"
     ]
    }
   ],
   "source": [
    "data.info()"
   ]
  },
  {
   "cell_type": "markdown",
   "metadata": {},
   "source": [
    "## Droping unnecessary columns."
   ]
  },
  {
   "cell_type": "code",
   "execution_count": 6,
   "metadata": {},
   "outputs": [],
   "source": [
    "data.drop(['ZIP code (address)','ZIP code (city)','ZIP code (state)'],axis=1,inplace=True)"
   ]
  },
  {
   "cell_type": "code",
   "execution_count": 7,
   "metadata": {},
   "outputs": [
    {
     "data": {
      "text/plain": [
       "(1688, 22)"
      ]
     },
     "execution_count": 7,
     "metadata": {},
     "output_type": "execute_result"
    }
   ],
   "source": [
    "data.shape"
   ]
  },
  {
   "cell_type": "markdown",
   "metadata": {},
   "source": [
    "### relpacing column names"
   ]
  },
  {
   "cell_type": "code",
   "execution_count": 8,
   "metadata": {},
   "outputs": [
    {
     "data": {
      "text/plain": [
       "Index(['Class', 'Class_Language', 'Age', 'Year', 'Gender',\n",
       "       'Insurance_Category', 'Medical_Home_Category', 'Race/Ethnicity',\n",
       "       'Education_Level', 'Diabetes_Status_', 'Heart_Disease_',\n",
       "       'High_Blood_Pressure_', 'Tobacco_Use_', 'Previous_Diabetes_Education_',\n",
       "       'Diabetes_Knowledge', 'Fruits_&_Vegetable_Consumption',\n",
       "       'Sugar-Sweetened_Beverage_Consumption', 'Food_Measurement',\n",
       "       'Carbohydrate_Counting', 'Exercise',\n",
       "       'Problem_Area_in_Diabetes_PAID_Scale_Score', 'ZIP_code_zip'],\n",
       "      dtype='object')"
      ]
     },
     "execution_count": 8,
     "metadata": {},
     "output_type": "execute_result"
    }
   ],
   "source": [
    "data.columns = data.columns.str.replace('(Yes/No)','')\n",
    "data.columns = data.columns.str.replace('[\\(\\)]','')\n",
    "data.columns = data.columns.str.replace(' ','_')\n",
    "data.columns"
   ]
  },
  {
   "cell_type": "markdown",
   "metadata": {},
   "source": [
    "### Renaming columns"
   ]
  },
  {
   "cell_type": "code",
   "execution_count": 9,
   "metadata": {},
   "outputs": [],
   "source": [
    "data.rename(columns = {'Diabetes_Status_':'Diabetes_Status', 'Heart_Disease_':'Heart_Disease','High_Blood_Pressure_':'High_BP','Tobacco_Use_':'Tobacco_Use','Previous_Diabetes_Education_':'Previous_Diabetes_Education','Problem_Area_in_Diabetes_PAID_Scale_Score':'PAID','ZIP_code_zip':'Zip_code','Carbohydrate_Counting':'Carbs_counting','Fruits_&_Vegetable_Consumption':'Fruits_and_Veges_Consumption','Sugar-Sweetened_Beverage_Consumption':'Sugar_Beverage_Consumption','Race/Ethnicity':'Race'},inplace=True)"
   ]
  },
  {
   "cell_type": "code",
   "execution_count": 10,
   "metadata": {
    "scrolled": true
   },
   "outputs": [
    {
     "data": {
      "text/plain": [
       "Class                            object\n",
       "Class_Language                   object\n",
       "Age                             float64\n",
       "Year                              int64\n",
       "Gender                           object\n",
       "Insurance_Category               object\n",
       "Medical_Home_Category            object\n",
       "Race                             object\n",
       "Education_Level                  object\n",
       "Diabetes_Status                  object\n",
       "Heart_Disease                    object\n",
       "High_BP                          object\n",
       "Tobacco_Use                      object\n",
       "Previous_Diabetes_Education      object\n",
       "Diabetes_Knowledge               object\n",
       "Fruits_and_Veges_Consumption     object\n",
       "Sugar_Beverage_Consumption       object\n",
       "Food_Measurement                 object\n",
       "Carbs_counting                   object\n",
       "Exercise                         object\n",
       "PAID                            float64\n",
       "Zip_code                        float64\n",
       "dtype: object"
      ]
     },
     "execution_count": 10,
     "metadata": {},
     "output_type": "execute_result"
    }
   ],
   "source": [
    "data.dtypes"
   ]
  },
  {
   "cell_type": "markdown",
   "metadata": {},
   "source": [
    "### Checking null values"
   ]
  },
  {
   "cell_type": "code",
   "execution_count": 11,
   "metadata": {},
   "outputs": [
    {
     "data": {
      "text/plain": [
       "Class                              0\n",
       "Class_Language                     0\n",
       "Age                               32\n",
       "Year                               0\n",
       "Gender                            37\n",
       "Insurance_Category               113\n",
       "Medical_Home_Category             91\n",
       "Race                              37\n",
       "Education_Level                  289\n",
       "Diabetes_Status                   30\n",
       "Heart_Disease                    100\n",
       "High_BP                           93\n",
       "Tobacco_Use                      124\n",
       "Previous_Diabetes_Education      125\n",
       "Diabetes_Knowledge               154\n",
       "Fruits_and_Veges_Consumption      52\n",
       "Sugar_Beverage_Consumption        53\n",
       "Food_Measurement                  63\n",
       "Carbs_counting                    66\n",
       "Exercise                          78\n",
       "PAID                            1056\n",
       "Zip_code                         175\n",
       "dtype: int64"
      ]
     },
     "execution_count": 11,
     "metadata": {},
     "output_type": "execute_result"
    }
   ],
   "source": [
    "data.isnull().sum()"
   ]
  },
  {
   "cell_type": "code",
   "execution_count": 12,
   "metadata": {},
   "outputs": [
    {
     "data": {
      "text/plain": [
       "F    1335\n",
       "M     315\n",
       "f       1\n",
       "Name: Gender, dtype: int64"
      ]
     },
     "execution_count": 12,
     "metadata": {},
     "output_type": "execute_result"
    }
   ],
   "source": [
    "# taking value counts of each observation in gender column.\n",
    "data['Gender'].value_counts()"
   ]
  },
  {
   "cell_type": "code",
   "execution_count": 13,
   "metadata": {},
   "outputs": [],
   "source": [
    "# replacing the observation.\n",
    "data.Gender=data.Gender.str.replace('f','F')"
   ]
  },
  {
   "cell_type": "code",
   "execution_count": 14,
   "metadata": {},
   "outputs": [
    {
     "data": {
      "text/plain": [
       "F    1336\n",
       "M     315\n",
       "Name: Gender, dtype: int64"
      ]
     },
     "execution_count": 14,
     "metadata": {},
     "output_type": "execute_result"
    }
   ],
   "source": [
    "data.Gender.value_counts()"
   ]
  },
  {
   "cell_type": "code",
   "execution_count": 15,
   "metadata": {
    "scrolled": true
   },
   "outputs": [
    {
     "data": {
      "text/plain": [
       "array(['Private insurance', 'Other', 'MediCARE', 'None', nan, 'Medicaid',\n",
       "       'MAP'], dtype=object)"
      ]
     },
     "execution_count": 15,
     "metadata": {},
     "output_type": "execute_result"
    }
   ],
   "source": [
    "# Taking the unique values of the column\n",
    "data.Insurance_Category.unique()"
   ]
  },
  {
   "cell_type": "code",
   "execution_count": 16,
   "metadata": {},
   "outputs": [
    {
     "data": {
      "text/plain": [
       "None                 458\n",
       "Other                282\n",
       "Private insurance    269\n",
       "MediCARE             195\n",
       "MAP                  194\n",
       "Medicaid             177\n",
       "Name: Insurance_Category, dtype: int64"
      ]
     },
     "execution_count": 16,
     "metadata": {},
     "output_type": "execute_result"
    }
   ],
   "source": [
    "data.Insurance_Category.value_counts()"
   ]
  },
  {
   "cell_type": "code",
   "execution_count": 17,
   "metadata": {},
   "outputs": [],
   "source": [
    "# creating a variable cols containing two columns.\n",
    "cols = ['Age','PAID']"
   ]
  },
  {
   "cell_type": "code",
   "execution_count": 18,
   "metadata": {},
   "outputs": [],
   "source": [
    "# filling the null values of these columns with the mean of the variable.\n",
    "data[cols]=data[cols].fillna(data.mean().iloc[0])"
   ]
  },
  {
   "cell_type": "code",
   "execution_count": 19,
   "metadata": {},
   "outputs": [],
   "source": [
    "# creating a variable col containing these columns.\n",
    "col = ['Gender','Insurance_Category', 'Medical_Home_Category', 'Race','Education_Level', 'Diabetes_Status', 'Heart_Disease', 'High_BP',\n",
    "       'Tobacco_Use', 'Previous_Diabetes_Education',\n",
    "       'Fruits_and_Veges_Consumption', 'Sugar_Beverage_Consumption',\n",
    "       'Food_Measurement', 'Carbs_counting', 'Exercise']"
   ]
  },
  {
   "cell_type": "code",
   "execution_count": 20,
   "metadata": {},
   "outputs": [],
   "source": [
    "# filling the null values by using forward filling \n",
    "data[col]=data[col].fillna(method='ffill')"
   ]
  },
  {
   "cell_type": "code",
   "execution_count": 21,
   "metadata": {},
   "outputs": [],
   "source": [
    "# filling the null values by using median\n",
    "data['Zip_code']=data.Zip_code.fillna(data['Zip_code'].median())"
   ]
  },
  {
   "cell_type": "code",
   "execution_count": 22,
   "metadata": {},
   "outputs": [],
   "source": [
    "# filling the null values by using backward filling\n",
    "data['Diabetes_Knowledge']=data.Diabetes_Knowledge.fillna(method='bfill')"
   ]
  },
  {
   "cell_type": "code",
   "execution_count": 23,
   "metadata": {},
   "outputs": [
    {
     "data": {
      "text/plain": [
       "Class                           0\n",
       "Class_Language                  0\n",
       "Age                             0\n",
       "Year                            0\n",
       "Gender                          0\n",
       "Insurance_Category              0\n",
       "Medical_Home_Category           0\n",
       "Race                            0\n",
       "Education_Level                 0\n",
       "Diabetes_Status                 0\n",
       "Heart_Disease                   0\n",
       "High_BP                         0\n",
       "Tobacco_Use                     0\n",
       "Previous_Diabetes_Education     0\n",
       "Diabetes_Knowledge              0\n",
       "Fruits_and_Veges_Consumption    0\n",
       "Sugar_Beverage_Consumption      0\n",
       "Food_Measurement                0\n",
       "Carbs_counting                  0\n",
       "Exercise                        0\n",
       "PAID                            0\n",
       "Zip_code                        0\n",
       "dtype: int64"
      ]
     },
     "execution_count": 23,
     "metadata": {},
     "output_type": "execute_result"
    }
   ],
   "source": [
    "# again checking the null values\n",
    "data.isna().sum()"
   ]
  },
  {
   "cell_type": "markdown",
   "metadata": {},
   "source": [
    "# Repeating the process of checking unique values and replacing them."
   ]
  },
  {
   "cell_type": "code",
   "execution_count": 24,
   "metadata": {},
   "outputs": [
    {
     "data": {
      "text/plain": [
       "array(['American Indian', 'Hispanic/Latino', 'Black/African American',\n",
       "       'Asian', 'White', 'Other', 'Unknown'], dtype=object)"
      ]
     },
     "execution_count": 24,
     "metadata": {},
     "output_type": "execute_result"
    }
   ],
   "source": [
    "data.Race.unique()"
   ]
  },
  {
   "cell_type": "code",
   "execution_count": 25,
   "metadata": {},
   "outputs": [],
   "source": [
    "data.Race = data.Race.str.replace('/Latino','')\n",
    "data.Race = data.Race.str.replace('Black/','')"
   ]
  },
  {
   "cell_type": "code",
   "execution_count": 26,
   "metadata": {},
   "outputs": [
    {
     "data": {
      "text/plain": [
       "array(['American Indian', 'Hispanic', 'African American', 'Asian',\n",
       "       'White', 'Other', 'Unknown'], dtype=object)"
      ]
     },
     "execution_count": 26,
     "metadata": {},
     "output_type": "execute_result"
    }
   ],
   "source": [
    "data.Race.unique()"
   ]
  },
  {
   "cell_type": "code",
   "execution_count": 27,
   "metadata": {},
   "outputs": [
    {
     "data": {
      "text/plain": [
       "array(['College', '1-8', 'Some College', 'High School GED', '9-11', 'y',\n",
       "       'n', 'none'], dtype=object)"
      ]
     },
     "execution_count": 27,
     "metadata": {},
     "output_type": "execute_result"
    }
   ],
   "source": [
    "data['Education_Level'].unique()\n"
   ]
  },
  {
   "cell_type": "code",
   "execution_count": 28,
   "metadata": {},
   "outputs": [],
   "source": [
    "data.Education_Level = data.Education_Level.str.replace('1-8','Primary')\n",
    "data.Education_Level = data.Education_Level.str.replace('9-11','Higher Secondary')"
   ]
  },
  {
   "cell_type": "code",
   "execution_count": 29,
   "metadata": {},
   "outputs": [
    {
     "data": {
      "text/plain": [
       "Primary             405\n",
       "High School GED     353\n",
       "College             341\n",
       "Higher Secondary    315\n",
       "Some College        267\n",
       "y                     3\n",
       "n                     3\n",
       "none                  1\n",
       "Name: Education_Level, dtype: int64"
      ]
     },
     "execution_count": 29,
     "metadata": {},
     "output_type": "execute_result"
    }
   ],
   "source": [
    "data['Education_Level'].value_counts()"
   ]
  },
  {
   "cell_type": "markdown",
   "metadata": {},
   "source": [
    "### changing the datatype of these columns"
   ]
  },
  {
   "cell_type": "code",
   "execution_count": 30,
   "metadata": {},
   "outputs": [],
   "source": [
    "data['Age'] = data.Age.astype(int)\n",
    "data['Zip_code'] = data.Zip_code.astype(int)\n"
   ]
  },
  {
   "cell_type": "code",
   "execution_count": 31,
   "metadata": {},
   "outputs": [
    {
     "data": {
      "text/plain": [
       "array(['Yes', 'No', 'Unknown'], dtype=object)"
      ]
     },
     "execution_count": 31,
     "metadata": {},
     "output_type": "execute_result"
    }
   ],
   "source": [
    "data.Diabetes_Status.unique()"
   ]
  },
  {
   "cell_type": "code",
   "execution_count": 32,
   "metadata": {
    "scrolled": true
   },
   "outputs": [
    {
     "data": {
      "text/plain": [
       "No         954\n",
       "Yes        720\n",
       "Unknown     14\n",
       "Name: Diabetes_Status, dtype: int64"
      ]
     },
     "execution_count": 32,
     "metadata": {},
     "output_type": "execute_result"
    }
   ],
   "source": [
    "data.Diabetes_Status.value_counts()"
   ]
  },
  {
   "cell_type": "code",
   "execution_count": 33,
   "metadata": {},
   "outputs": [
    {
     "data": {
      "text/plain": [
       "No     1565\n",
       "Yes     123\n",
       "Name: Heart_Disease, dtype: int64"
      ]
     },
     "execution_count": 33,
     "metadata": {},
     "output_type": "execute_result"
    }
   ],
   "source": [
    "data.Heart_Disease.value_counts()"
   ]
  },
  {
   "cell_type": "code",
   "execution_count": 34,
   "metadata": {
    "scrolled": false
   },
   "outputs": [
    {
     "data": {
      "text/html": [
       "<div>\n",
       "<style scoped>\n",
       "    .dataframe tbody tr th:only-of-type {\n",
       "        vertical-align: middle;\n",
       "    }\n",
       "\n",
       "    .dataframe tbody tr th {\n",
       "        vertical-align: top;\n",
       "    }\n",
       "\n",
       "    .dataframe thead th {\n",
       "        text-align: right;\n",
       "    }\n",
       "</style>\n",
       "<table border=\"1\" class=\"dataframe\">\n",
       "  <thead>\n",
       "    <tr style=\"text-align: right;\">\n",
       "      <th></th>\n",
       "      <th>Class</th>\n",
       "      <th>Class_Language</th>\n",
       "      <th>Age</th>\n",
       "      <th>Year</th>\n",
       "      <th>Gender</th>\n",
       "      <th>Insurance_Category</th>\n",
       "      <th>Medical_Home_Category</th>\n",
       "      <th>Race</th>\n",
       "      <th>Education_Level</th>\n",
       "      <th>Diabetes_Status</th>\n",
       "      <th>...</th>\n",
       "      <th>Tobacco_Use</th>\n",
       "      <th>Previous_Diabetes_Education</th>\n",
       "      <th>Diabetes_Knowledge</th>\n",
       "      <th>Fruits_and_Veges_Consumption</th>\n",
       "      <th>Sugar_Beverage_Consumption</th>\n",
       "      <th>Food_Measurement</th>\n",
       "      <th>Carbs_counting</th>\n",
       "      <th>Exercise</th>\n",
       "      <th>PAID</th>\n",
       "      <th>Zip_code</th>\n",
       "    </tr>\n",
       "  </thead>\n",
       "  <tbody>\n",
       "    <tr>\n",
       "      <td>0</td>\n",
       "      <td>APH</td>\n",
       "      <td>English</td>\n",
       "      <td>47</td>\n",
       "      <td>2016</td>\n",
       "      <td>F</td>\n",
       "      <td>Private insurance</td>\n",
       "      <td>Doctor's Office</td>\n",
       "      <td>American Indian</td>\n",
       "      <td>College</td>\n",
       "      <td>Yes</td>\n",
       "      <td>...</td>\n",
       "      <td>No</td>\n",
       "      <td>Yes</td>\n",
       "      <td>Fair</td>\n",
       "      <td>3-4</td>\n",
       "      <td>0</td>\n",
       "      <td>0 days</td>\n",
       "      <td>0 days</td>\n",
       "      <td>1 day</td>\n",
       "      <td>13.750000</td>\n",
       "      <td>78741</td>\n",
       "    </tr>\n",
       "    <tr>\n",
       "      <td>1</td>\n",
       "      <td>PCHW</td>\n",
       "      <td>Spanish</td>\n",
       "      <td>35</td>\n",
       "      <td>2015</td>\n",
       "      <td>F</td>\n",
       "      <td>Other</td>\n",
       "      <td>Doctor's Office</td>\n",
       "      <td>Hispanic</td>\n",
       "      <td>College</td>\n",
       "      <td>No</td>\n",
       "      <td>...</td>\n",
       "      <td>No</td>\n",
       "      <td>No</td>\n",
       "      <td>Fair</td>\n",
       "      <td>1-2</td>\n",
       "      <td>2</td>\n",
       "      <td>I don't know how</td>\n",
       "      <td>I don't know how</td>\n",
       "      <td>1 day</td>\n",
       "      <td>49.282609</td>\n",
       "      <td>78758</td>\n",
       "    </tr>\n",
       "    <tr>\n",
       "      <td>2</td>\n",
       "      <td>ARCF</td>\n",
       "      <td>English</td>\n",
       "      <td>58</td>\n",
       "      <td>2015</td>\n",
       "      <td>F</td>\n",
       "      <td>MediCARE</td>\n",
       "      <td>Doctor's Office</td>\n",
       "      <td>African American</td>\n",
       "      <td>Primary</td>\n",
       "      <td>No</td>\n",
       "      <td>...</td>\n",
       "      <td>No</td>\n",
       "      <td>No</td>\n",
       "      <td>Fair</td>\n",
       "      <td>1-2</td>\n",
       "      <td>2</td>\n",
       "      <td>I don't know how</td>\n",
       "      <td>I don't know how</td>\n",
       "      <td>0 days</td>\n",
       "      <td>49.282609</td>\n",
       "      <td>78753</td>\n",
       "    </tr>\n",
       "    <tr>\n",
       "      <td>3</td>\n",
       "      <td>PCHW</td>\n",
       "      <td>Spanish</td>\n",
       "      <td>41</td>\n",
       "      <td>2015</td>\n",
       "      <td>F</td>\n",
       "      <td>None</td>\n",
       "      <td>No regular place of care</td>\n",
       "      <td>Hispanic</td>\n",
       "      <td>Primary</td>\n",
       "      <td>No</td>\n",
       "      <td>...</td>\n",
       "      <td>No</td>\n",
       "      <td>No</td>\n",
       "      <td>Good</td>\n",
       "      <td>1-2</td>\n",
       "      <td>2</td>\n",
       "      <td>I don't know how</td>\n",
       "      <td>I don't know how</td>\n",
       "      <td>4 days</td>\n",
       "      <td>49.282609</td>\n",
       "      <td>78617</td>\n",
       "    </tr>\n",
       "    <tr>\n",
       "      <td>4</td>\n",
       "      <td>ARCF</td>\n",
       "      <td>English</td>\n",
       "      <td>56</td>\n",
       "      <td>2015</td>\n",
       "      <td>M</td>\n",
       "      <td>None</td>\n",
       "      <td>Emergency Room</td>\n",
       "      <td>Hispanic</td>\n",
       "      <td>College</td>\n",
       "      <td>No</td>\n",
       "      <td>...</td>\n",
       "      <td>No</td>\n",
       "      <td>No</td>\n",
       "      <td>Good</td>\n",
       "      <td>1-2</td>\n",
       "      <td>1</td>\n",
       "      <td>0 days</td>\n",
       "      <td>0 days</td>\n",
       "      <td>0 days</td>\n",
       "      <td>49.282609</td>\n",
       "      <td>78720</td>\n",
       "    </tr>\n",
       "  </tbody>\n",
       "</table>\n",
       "<p>5 rows × 22 columns</p>\n",
       "</div>"
      ],
      "text/plain": [
       "  Class Class_Language  Age  Year Gender Insurance_Category  \\\n",
       "0   APH        English   47  2016      F  Private insurance   \n",
       "1  PCHW        Spanish   35  2015      F              Other   \n",
       "2  ARCF        English   58  2015      F           MediCARE   \n",
       "3  PCHW        Spanish   41  2015      F               None   \n",
       "4  ARCF        English   56  2015      M               None   \n",
       "\n",
       "      Medical_Home_Category              Race Education_Level Diabetes_Status  \\\n",
       "0           Doctor's Office   American Indian         College             Yes   \n",
       "1           Doctor's Office          Hispanic         College              No   \n",
       "2           Doctor's Office  African American         Primary              No   \n",
       "3  No regular place of care          Hispanic         Primary              No   \n",
       "4            Emergency Room          Hispanic         College              No   \n",
       "\n",
       "   ... Tobacco_Use Previous_Diabetes_Education Diabetes_Knowledge  \\\n",
       "0  ...          No                         Yes               Fair   \n",
       "1  ...          No                          No               Fair   \n",
       "2  ...          No                          No               Fair   \n",
       "3  ...          No                          No               Good   \n",
       "4  ...          No                          No               Good   \n",
       "\n",
       "  Fruits_and_Veges_Consumption Sugar_Beverage_Consumption  Food_Measurement  \\\n",
       "0                          3-4                          0            0 days   \n",
       "1                          1-2                          2  I don't know how   \n",
       "2                          1-2                          2  I don't know how   \n",
       "3                          1-2                          2  I don't know how   \n",
       "4                          1-2                          1            0 days   \n",
       "\n",
       "     Carbs_counting Exercise       PAID Zip_code  \n",
       "0            0 days    1 day  13.750000    78741  \n",
       "1  I don't know how    1 day  49.282609    78758  \n",
       "2  I don't know how   0 days  49.282609    78753  \n",
       "3  I don't know how   4 days  49.282609    78617  \n",
       "4            0 days   0 days  49.282609    78720  \n",
       "\n",
       "[5 rows x 22 columns]"
      ]
     },
     "execution_count": 34,
     "metadata": {},
     "output_type": "execute_result"
    }
   ],
   "source": [
    "data.head()"
   ]
  },
  {
   "cell_type": "markdown",
   "metadata": {},
   "source": [
    "## Selecting the Unknown values of the Diabetes_Status column."
   ]
  },
  {
   "cell_type": "code",
   "execution_count": 35,
   "metadata": {},
   "outputs": [
    {
     "name": "stdout",
     "output_type": "stream",
     "text": [
      "(14, 22)\n"
     ]
    },
    {
     "data": {
      "text/html": [
       "<div>\n",
       "<style scoped>\n",
       "    .dataframe tbody tr th:only-of-type {\n",
       "        vertical-align: middle;\n",
       "    }\n",
       "\n",
       "    .dataframe tbody tr th {\n",
       "        vertical-align: top;\n",
       "    }\n",
       "\n",
       "    .dataframe thead th {\n",
       "        text-align: right;\n",
       "    }\n",
       "</style>\n",
       "<table border=\"1\" class=\"dataframe\">\n",
       "  <thead>\n",
       "    <tr style=\"text-align: right;\">\n",
       "      <th></th>\n",
       "      <th>Class</th>\n",
       "      <th>Class_Language</th>\n",
       "      <th>Age</th>\n",
       "      <th>Year</th>\n",
       "      <th>Gender</th>\n",
       "      <th>Insurance_Category</th>\n",
       "      <th>Medical_Home_Category</th>\n",
       "      <th>Race</th>\n",
       "      <th>Education_Level</th>\n",
       "      <th>Diabetes_Status</th>\n",
       "      <th>...</th>\n",
       "      <th>Tobacco_Use</th>\n",
       "      <th>Previous_Diabetes_Education</th>\n",
       "      <th>Diabetes_Knowledge</th>\n",
       "      <th>Fruits_and_Veges_Consumption</th>\n",
       "      <th>Sugar_Beverage_Consumption</th>\n",
       "      <th>Food_Measurement</th>\n",
       "      <th>Carbs_counting</th>\n",
       "      <th>Exercise</th>\n",
       "      <th>PAID</th>\n",
       "      <th>Zip_code</th>\n",
       "    </tr>\n",
       "  </thead>\n",
       "  <tbody>\n",
       "    <tr>\n",
       "      <td>12</td>\n",
       "      <td>PCHW</td>\n",
       "      <td>Spanish</td>\n",
       "      <td>34</td>\n",
       "      <td>2015</td>\n",
       "      <td>F</td>\n",
       "      <td>None</td>\n",
       "      <td>Doctor's Office</td>\n",
       "      <td>Hispanic</td>\n",
       "      <td>High School GED</td>\n",
       "      <td>Unknown</td>\n",
       "      <td>...</td>\n",
       "      <td>No</td>\n",
       "      <td>No</td>\n",
       "      <td>Poor</td>\n",
       "      <td>1-2</td>\n",
       "      <td>1</td>\n",
       "      <td>0 days</td>\n",
       "      <td>0 days</td>\n",
       "      <td>0 days</td>\n",
       "      <td>49.282609</td>\n",
       "      <td>78737</td>\n",
       "    </tr>\n",
       "    <tr>\n",
       "      <td>70</td>\n",
       "      <td>APH</td>\n",
       "      <td>Spanish</td>\n",
       "      <td>46</td>\n",
       "      <td>2017</td>\n",
       "      <td>M</td>\n",
       "      <td>None</td>\n",
       "      <td>No regular place of care</td>\n",
       "      <td>Hispanic</td>\n",
       "      <td>Higher Secondary</td>\n",
       "      <td>Unknown</td>\n",
       "      <td>...</td>\n",
       "      <td>No</td>\n",
       "      <td>No</td>\n",
       "      <td>Poor</td>\n",
       "      <td>1-2</td>\n",
       "      <td>Not Sure</td>\n",
       "      <td>0</td>\n",
       "      <td>I don't know how</td>\n",
       "      <td>1 day</td>\n",
       "      <td>49.282609</td>\n",
       "      <td>78753</td>\n",
       "    </tr>\n",
       "    <tr>\n",
       "      <td>131</td>\n",
       "      <td>PCHW</td>\n",
       "      <td>Spanish</td>\n",
       "      <td>41</td>\n",
       "      <td>2015</td>\n",
       "      <td>F</td>\n",
       "      <td>None</td>\n",
       "      <td>No regular place of care</td>\n",
       "      <td>Hispanic</td>\n",
       "      <td>College</td>\n",
       "      <td>Unknown</td>\n",
       "      <td>...</td>\n",
       "      <td>No</td>\n",
       "      <td>Yes</td>\n",
       "      <td>Fair</td>\n",
       "      <td>1-2</td>\n",
       "      <td>0</td>\n",
       "      <td>0 days</td>\n",
       "      <td>0 days</td>\n",
       "      <td>2 days</td>\n",
       "      <td>49.282609</td>\n",
       "      <td>78737</td>\n",
       "    </tr>\n",
       "    <tr>\n",
       "      <td>286</td>\n",
       "      <td>APH</td>\n",
       "      <td>Chinese/English</td>\n",
       "      <td>49</td>\n",
       "      <td>2017</td>\n",
       "      <td>F</td>\n",
       "      <td>Other</td>\n",
       "      <td>CommUnityCare</td>\n",
       "      <td>Asian</td>\n",
       "      <td>Primary</td>\n",
       "      <td>Unknown</td>\n",
       "      <td>...</td>\n",
       "      <td>No</td>\n",
       "      <td>No</td>\n",
       "      <td>Poor</td>\n",
       "      <td>1-2</td>\n",
       "      <td>2</td>\n",
       "      <td>0 days</td>\n",
       "      <td>0 days</td>\n",
       "      <td>1 day</td>\n",
       "      <td>49.282609</td>\n",
       "      <td>78737</td>\n",
       "    </tr>\n",
       "    <tr>\n",
       "      <td>480</td>\n",
       "      <td>APH</td>\n",
       "      <td>Spanish</td>\n",
       "      <td>34</td>\n",
       "      <td>2017</td>\n",
       "      <td>F</td>\n",
       "      <td>Other</td>\n",
       "      <td>CommUnityCare</td>\n",
       "      <td>Hispanic</td>\n",
       "      <td>Higher Secondary</td>\n",
       "      <td>Unknown</td>\n",
       "      <td>...</td>\n",
       "      <td>No</td>\n",
       "      <td>No</td>\n",
       "      <td>Good</td>\n",
       "      <td>3-4</td>\n",
       "      <td>2</td>\n",
       "      <td>1-3</td>\n",
       "      <td>1-3</td>\n",
       "      <td>2 days</td>\n",
       "      <td>49.282609</td>\n",
       "      <td>78745</td>\n",
       "    </tr>\n",
       "    <tr>\n",
       "      <td>577</td>\n",
       "      <td>APH</td>\n",
       "      <td>Chinese/English</td>\n",
       "      <td>49</td>\n",
       "      <td>2017</td>\n",
       "      <td>F</td>\n",
       "      <td>Private insurance</td>\n",
       "      <td>Seton Clinics</td>\n",
       "      <td>Asian</td>\n",
       "      <td>Some College</td>\n",
       "      <td>Unknown</td>\n",
       "      <td>...</td>\n",
       "      <td>No</td>\n",
       "      <td>Yes</td>\n",
       "      <td>Good</td>\n",
       "      <td>1-2</td>\n",
       "      <td>0</td>\n",
       "      <td>1-3</td>\n",
       "      <td>4 or more</td>\n",
       "      <td>2 days</td>\n",
       "      <td>49.282609</td>\n",
       "      <td>78737</td>\n",
       "    </tr>\n",
       "    <tr>\n",
       "      <td>585</td>\n",
       "      <td>APH</td>\n",
       "      <td>Spanish</td>\n",
       "      <td>52</td>\n",
       "      <td>2017</td>\n",
       "      <td>F</td>\n",
       "      <td>None</td>\n",
       "      <td>No regular place of care</td>\n",
       "      <td>Hispanic</td>\n",
       "      <td>Primary</td>\n",
       "      <td>Unknown</td>\n",
       "      <td>...</td>\n",
       "      <td>No</td>\n",
       "      <td>No</td>\n",
       "      <td>Poor</td>\n",
       "      <td>1-2</td>\n",
       "      <td>2</td>\n",
       "      <td>0 days</td>\n",
       "      <td>0 days</td>\n",
       "      <td>0 days</td>\n",
       "      <td>49.282609</td>\n",
       "      <td>78602</td>\n",
       "    </tr>\n",
       "    <tr>\n",
       "      <td>592</td>\n",
       "      <td>APH</td>\n",
       "      <td>Spanish</td>\n",
       "      <td>32</td>\n",
       "      <td>2017</td>\n",
       "      <td>F</td>\n",
       "      <td>None</td>\n",
       "      <td>CommUnityCare</td>\n",
       "      <td>Hispanic</td>\n",
       "      <td>Primary</td>\n",
       "      <td>Unknown</td>\n",
       "      <td>...</td>\n",
       "      <td>No</td>\n",
       "      <td>No</td>\n",
       "      <td>Poor</td>\n",
       "      <td>3-4</td>\n",
       "      <td>1</td>\n",
       "      <td>0</td>\n",
       "      <td>1-3</td>\n",
       "      <td>3 days</td>\n",
       "      <td>49.282609</td>\n",
       "      <td>78745</td>\n",
       "    </tr>\n",
       "    <tr>\n",
       "      <td>798</td>\n",
       "      <td>APH</td>\n",
       "      <td>Spanish</td>\n",
       "      <td>54</td>\n",
       "      <td>2016</td>\n",
       "      <td>F</td>\n",
       "      <td>MAP</td>\n",
       "      <td>CommUnityCare</td>\n",
       "      <td>Hispanic</td>\n",
       "      <td>Higher Secondary</td>\n",
       "      <td>Unknown</td>\n",
       "      <td>...</td>\n",
       "      <td>No</td>\n",
       "      <td>Yes</td>\n",
       "      <td>Good</td>\n",
       "      <td>5 or more</td>\n",
       "      <td>1</td>\n",
       "      <td>1-3</td>\n",
       "      <td>1-3</td>\n",
       "      <td>4 days</td>\n",
       "      <td>49.282609</td>\n",
       "      <td>78745</td>\n",
       "    </tr>\n",
       "    <tr>\n",
       "      <td>955</td>\n",
       "      <td>APH</td>\n",
       "      <td>Chinese/English</td>\n",
       "      <td>49</td>\n",
       "      <td>2017</td>\n",
       "      <td>F</td>\n",
       "      <td>Other</td>\n",
       "      <td>Lone Star Circle of Care</td>\n",
       "      <td>Asian</td>\n",
       "      <td>Higher Secondary</td>\n",
       "      <td>Unknown</td>\n",
       "      <td>...</td>\n",
       "      <td>No</td>\n",
       "      <td>No</td>\n",
       "      <td>Good</td>\n",
       "      <td>1-2</td>\n",
       "      <td>3 or more</td>\n",
       "      <td>1-3</td>\n",
       "      <td>4 or more</td>\n",
       "      <td>2 days</td>\n",
       "      <td>49.282609</td>\n",
       "      <td>78737</td>\n",
       "    </tr>\n",
       "    <tr>\n",
       "      <td>1148</td>\n",
       "      <td>APH</td>\n",
       "      <td>Spanish</td>\n",
       "      <td>42</td>\n",
       "      <td>2016</td>\n",
       "      <td>F</td>\n",
       "      <td>Other</td>\n",
       "      <td>CommUnityCare</td>\n",
       "      <td>Hispanic</td>\n",
       "      <td>Primary</td>\n",
       "      <td>Unknown</td>\n",
       "      <td>...</td>\n",
       "      <td>No</td>\n",
       "      <td>No</td>\n",
       "      <td>Fair</td>\n",
       "      <td>1-2</td>\n",
       "      <td>1</td>\n",
       "      <td>0 days</td>\n",
       "      <td>0 days</td>\n",
       "      <td>1 day</td>\n",
       "      <td>49.282609</td>\n",
       "      <td>78745</td>\n",
       "    </tr>\n",
       "    <tr>\n",
       "      <td>1441</td>\n",
       "      <td>PCHW</td>\n",
       "      <td>Spanish</td>\n",
       "      <td>46</td>\n",
       "      <td>2015</td>\n",
       "      <td>F</td>\n",
       "      <td>None</td>\n",
       "      <td>No regular place of care</td>\n",
       "      <td>Hispanic</td>\n",
       "      <td>College</td>\n",
       "      <td>Unknown</td>\n",
       "      <td>...</td>\n",
       "      <td>No</td>\n",
       "      <td>No</td>\n",
       "      <td>Good</td>\n",
       "      <td>1-2</td>\n",
       "      <td>0</td>\n",
       "      <td>1-3</td>\n",
       "      <td>4 or more</td>\n",
       "      <td>2 days</td>\n",
       "      <td>49.282609</td>\n",
       "      <td>78737</td>\n",
       "    </tr>\n",
       "    <tr>\n",
       "      <td>1487</td>\n",
       "      <td>ARCF</td>\n",
       "      <td>English</td>\n",
       "      <td>28</td>\n",
       "      <td>2017</td>\n",
       "      <td>F</td>\n",
       "      <td>None</td>\n",
       "      <td>No regular place of care</td>\n",
       "      <td>Hispanic</td>\n",
       "      <td>High School GED</td>\n",
       "      <td>Unknown</td>\n",
       "      <td>...</td>\n",
       "      <td>Yes</td>\n",
       "      <td>No</td>\n",
       "      <td>Good</td>\n",
       "      <td>3-4</td>\n",
       "      <td>1</td>\n",
       "      <td>I don't know how</td>\n",
       "      <td>I don't know how</td>\n",
       "      <td>3 days</td>\n",
       "      <td>49.282609</td>\n",
       "      <td>78745</td>\n",
       "    </tr>\n",
       "    <tr>\n",
       "      <td>1671</td>\n",
       "      <td>EB</td>\n",
       "      <td>Spanish</td>\n",
       "      <td>51</td>\n",
       "      <td>2017</td>\n",
       "      <td>F</td>\n",
       "      <td>None</td>\n",
       "      <td>El Buen Samaritano</td>\n",
       "      <td>Hispanic</td>\n",
       "      <td>High School GED</td>\n",
       "      <td>Unknown</td>\n",
       "      <td>...</td>\n",
       "      <td>No</td>\n",
       "      <td>No</td>\n",
       "      <td>Fair</td>\n",
       "      <td>1-2</td>\n",
       "      <td>0</td>\n",
       "      <td>1-3</td>\n",
       "      <td>I don't know how</td>\n",
       "      <td>3 days</td>\n",
       "      <td>49.282609</td>\n",
       "      <td>78737</td>\n",
       "    </tr>\n",
       "  </tbody>\n",
       "</table>\n",
       "<p>14 rows × 22 columns</p>\n",
       "</div>"
      ],
      "text/plain": [
       "     Class   Class_Language  Age  Year Gender Insurance_Category  \\\n",
       "12    PCHW          Spanish   34  2015      F               None   \n",
       "70     APH          Spanish   46  2017      M               None   \n",
       "131   PCHW          Spanish   41  2015      F               None   \n",
       "286    APH  Chinese/English   49  2017      F              Other   \n",
       "480    APH          Spanish   34  2017      F              Other   \n",
       "577    APH  Chinese/English   49  2017      F  Private insurance   \n",
       "585    APH          Spanish   52  2017      F               None   \n",
       "592    APH          Spanish   32  2017      F               None   \n",
       "798    APH          Spanish   54  2016      F                MAP   \n",
       "955    APH  Chinese/English   49  2017      F              Other   \n",
       "1148   APH          Spanish   42  2016      F              Other   \n",
       "1441  PCHW          Spanish   46  2015      F               None   \n",
       "1487  ARCF          English   28  2017      F               None   \n",
       "1671    EB          Spanish   51  2017      F               None   \n",
       "\n",
       "         Medical_Home_Category      Race   Education_Level Diabetes_Status  \\\n",
       "12             Doctor's Office  Hispanic   High School GED         Unknown   \n",
       "70    No regular place of care  Hispanic  Higher Secondary         Unknown   \n",
       "131   No regular place of care  Hispanic           College         Unknown   \n",
       "286              CommUnityCare     Asian           Primary         Unknown   \n",
       "480              CommUnityCare  Hispanic  Higher Secondary         Unknown   \n",
       "577              Seton Clinics     Asian      Some College         Unknown   \n",
       "585   No regular place of care  Hispanic           Primary         Unknown   \n",
       "592              CommUnityCare  Hispanic           Primary         Unknown   \n",
       "798              CommUnityCare  Hispanic  Higher Secondary         Unknown   \n",
       "955   Lone Star Circle of Care     Asian  Higher Secondary         Unknown   \n",
       "1148             CommUnityCare  Hispanic           Primary         Unknown   \n",
       "1441  No regular place of care  Hispanic           College         Unknown   \n",
       "1487  No regular place of care  Hispanic   High School GED         Unknown   \n",
       "1671        El Buen Samaritano  Hispanic   High School GED         Unknown   \n",
       "\n",
       "      ... Tobacco_Use Previous_Diabetes_Education Diabetes_Knowledge  \\\n",
       "12    ...          No                          No               Poor   \n",
       "70    ...          No                          No               Poor   \n",
       "131   ...          No                         Yes               Fair   \n",
       "286   ...          No                          No               Poor   \n",
       "480   ...          No                          No               Good   \n",
       "577   ...          No                         Yes               Good   \n",
       "585   ...          No                          No               Poor   \n",
       "592   ...          No                          No               Poor   \n",
       "798   ...          No                         Yes               Good   \n",
       "955   ...          No                          No               Good   \n",
       "1148  ...          No                          No               Fair   \n",
       "1441  ...          No                          No               Good   \n",
       "1487  ...         Yes                          No               Good   \n",
       "1671  ...          No                          No               Fair   \n",
       "\n",
       "     Fruits_and_Veges_Consumption Sugar_Beverage_Consumption  \\\n",
       "12                            1-2                          1   \n",
       "70                            1-2                   Not Sure   \n",
       "131                           1-2                          0   \n",
       "286                           1-2                          2   \n",
       "480                           3-4                          2   \n",
       "577                           1-2                          0   \n",
       "585                           1-2                          2   \n",
       "592                           3-4                          1   \n",
       "798                     5 or more                          1   \n",
       "955                           1-2                  3 or more   \n",
       "1148                          1-2                          1   \n",
       "1441                          1-2                          0   \n",
       "1487                          3-4                          1   \n",
       "1671                          1-2                          0   \n",
       "\n",
       "      Food_Measurement    Carbs_counting Exercise       PAID Zip_code  \n",
       "12              0 days            0 days   0 days  49.282609    78737  \n",
       "70                   0  I don't know how    1 day  49.282609    78753  \n",
       "131             0 days            0 days   2 days  49.282609    78737  \n",
       "286             0 days            0 days    1 day  49.282609    78737  \n",
       "480                1-3               1-3   2 days  49.282609    78745  \n",
       "577                1-3         4 or more   2 days  49.282609    78737  \n",
       "585             0 days            0 days   0 days  49.282609    78602  \n",
       "592                  0               1-3   3 days  49.282609    78745  \n",
       "798                1-3               1-3   4 days  49.282609    78745  \n",
       "955                1-3         4 or more   2 days  49.282609    78737  \n",
       "1148            0 days            0 days    1 day  49.282609    78745  \n",
       "1441               1-3         4 or more   2 days  49.282609    78737  \n",
       "1487  I don't know how  I don't know how   3 days  49.282609    78745  \n",
       "1671               1-3  I don't know how   3 days  49.282609    78737  \n",
       "\n",
       "[14 rows x 22 columns]"
      ]
     },
     "execution_count": 35,
     "metadata": {},
     "output_type": "execute_result"
    }
   ],
   "source": [
    "data1=data[data.Diabetes_Status.str.contains('Unknown')]\n",
    "print(data1.shape)\n",
    "data1"
   ]
  },
  {
   "cell_type": "markdown",
   "metadata": {},
   "source": [
    "## Dropping all the unnecessary values."
   ]
  },
  {
   "cell_type": "code",
   "execution_count": 36,
   "metadata": {},
   "outputs": [],
   "source": [
    "data.drop([12,70,131,286,480,577,585,592,798,955,1148,1441,1487,1671],axis=0,inplace=True)"
   ]
  },
  {
   "cell_type": "code",
   "execution_count": 37,
   "metadata": {},
   "outputs": [
    {
     "data": {
      "text/plain": [
       "No     954\n",
       "Yes    720\n",
       "Name: Diabetes_Status, dtype: int64"
      ]
     },
     "execution_count": 37,
     "metadata": {},
     "output_type": "execute_result"
    }
   ],
   "source": [
    "# taking the value count of this column\n",
    "data.Diabetes_Status.value_counts()"
   ]
  },
  {
   "cell_type": "code",
   "execution_count": 38,
   "metadata": {},
   "outputs": [],
   "source": [
    "# Mapping the yes and no with 1 & 0\n",
    "data['Diabetes_Status'] = data.Diabetes_Status.map({'Yes':1,'No':0})"
   ]
  },
  {
   "cell_type": "code",
   "execution_count": 39,
   "metadata": {
    "scrolled": true
   },
   "outputs": [
    {
     "data": {
      "text/plain": [
       "0    954\n",
       "1    720\n",
       "Name: Diabetes_Status, dtype: int64"
      ]
     },
     "execution_count": 39,
     "metadata": {},
     "output_type": "execute_result"
    }
   ],
   "source": [
    "data.Diabetes_Status.value_counts()"
   ]
  },
  {
   "cell_type": "code",
   "execution_count": 40,
   "metadata": {},
   "outputs": [
    {
     "data": {
      "text/plain": [
       "(1674, 21)"
      ]
     },
     "execution_count": 40,
     "metadata": {},
     "output_type": "execute_result"
    }
   ],
   "source": [
    "# Divinding the dataset into independent & dependent variable X & y\n",
    "X = data.drop('Diabetes_Status', axis='columns')\n",
    "X.shape"
   ]
  },
  {
   "cell_type": "code",
   "execution_count": 41,
   "metadata": {},
   "outputs": [
    {
     "data": {
      "text/plain": [
       "(1674,)"
      ]
     },
     "execution_count": 41,
     "metadata": {},
     "output_type": "execute_result"
    }
   ],
   "source": [
    "y = data.Diabetes_Status\n",
    "y.shape"
   ]
  },
  {
   "cell_type": "code",
   "execution_count": 42,
   "metadata": {},
   "outputs": [],
   "source": [
    "# Creating dummy variables of all the categorical values.\n",
    "X = pd.get_dummies(X, columns=['Class', 'Class_Language', 'Gender',\n",
    "       'Insurance_Category', 'Medical_Home_Category', 'Race',\n",
    "       'Education_Level', 'Heart_Disease', 'High_BP', 'Tobacco_Use',\n",
    "       'Previous_Diabetes_Education', 'Diabetes_Knowledge',\n",
    "       'Fruits_and_Veges_Consumption', 'Sugar_Beverage_Consumption',\n",
    "       'Food_Measurement', 'Carbs_counting', 'Exercise'],drop_first=True)"
   ]
  },
  {
   "cell_type": "code",
   "execution_count": 43,
   "metadata": {
    "scrolled": true
   },
   "outputs": [
    {
     "data": {
      "text/html": [
       "<div>\n",
       "<style scoped>\n",
       "    .dataframe tbody tr th:only-of-type {\n",
       "        vertical-align: middle;\n",
       "    }\n",
       "\n",
       "    .dataframe tbody tr th {\n",
       "        vertical-align: top;\n",
       "    }\n",
       "\n",
       "    .dataframe thead th {\n",
       "        text-align: right;\n",
       "    }\n",
       "</style>\n",
       "<table border=\"1\" class=\"dataframe\">\n",
       "  <thead>\n",
       "    <tr style=\"text-align: right;\">\n",
       "      <th></th>\n",
       "      <th>Age</th>\n",
       "      <th>Year</th>\n",
       "      <th>PAID</th>\n",
       "      <th>Zip_code</th>\n",
       "      <th>Class_ARCF</th>\n",
       "      <th>Class_EB</th>\n",
       "      <th>Class_PCHW</th>\n",
       "      <th>Class_Language_English</th>\n",
       "      <th>Class_Language_Spanish</th>\n",
       "      <th>Gender_M</th>\n",
       "      <th>...</th>\n",
       "      <th>Carbs_counting_1-3</th>\n",
       "      <th>Carbs_counting_4 or more</th>\n",
       "      <th>Carbs_counting_I don't know how</th>\n",
       "      <th>Carbs_counting_Not Sure</th>\n",
       "      <th>Exercise_1 day</th>\n",
       "      <th>Exercise_2 days</th>\n",
       "      <th>Exercise_3 days</th>\n",
       "      <th>Exercise_4 days</th>\n",
       "      <th>Exercise_5 or more days</th>\n",
       "      <th>Exercise_Not Sure</th>\n",
       "    </tr>\n",
       "  </thead>\n",
       "  <tbody>\n",
       "    <tr>\n",
       "      <td>0</td>\n",
       "      <td>47</td>\n",
       "      <td>2016</td>\n",
       "      <td>13.750000</td>\n",
       "      <td>78741</td>\n",
       "      <td>0</td>\n",
       "      <td>0</td>\n",
       "      <td>0</td>\n",
       "      <td>1</td>\n",
       "      <td>0</td>\n",
       "      <td>0</td>\n",
       "      <td>...</td>\n",
       "      <td>0</td>\n",
       "      <td>0</td>\n",
       "      <td>0</td>\n",
       "      <td>0</td>\n",
       "      <td>1</td>\n",
       "      <td>0</td>\n",
       "      <td>0</td>\n",
       "      <td>0</td>\n",
       "      <td>0</td>\n",
       "      <td>0</td>\n",
       "    </tr>\n",
       "    <tr>\n",
       "      <td>1</td>\n",
       "      <td>35</td>\n",
       "      <td>2015</td>\n",
       "      <td>49.282609</td>\n",
       "      <td>78758</td>\n",
       "      <td>0</td>\n",
       "      <td>0</td>\n",
       "      <td>1</td>\n",
       "      <td>0</td>\n",
       "      <td>1</td>\n",
       "      <td>0</td>\n",
       "      <td>...</td>\n",
       "      <td>0</td>\n",
       "      <td>0</td>\n",
       "      <td>1</td>\n",
       "      <td>0</td>\n",
       "      <td>1</td>\n",
       "      <td>0</td>\n",
       "      <td>0</td>\n",
       "      <td>0</td>\n",
       "      <td>0</td>\n",
       "      <td>0</td>\n",
       "    </tr>\n",
       "    <tr>\n",
       "      <td>2</td>\n",
       "      <td>58</td>\n",
       "      <td>2015</td>\n",
       "      <td>49.282609</td>\n",
       "      <td>78753</td>\n",
       "      <td>1</td>\n",
       "      <td>0</td>\n",
       "      <td>0</td>\n",
       "      <td>1</td>\n",
       "      <td>0</td>\n",
       "      <td>0</td>\n",
       "      <td>...</td>\n",
       "      <td>0</td>\n",
       "      <td>0</td>\n",
       "      <td>1</td>\n",
       "      <td>0</td>\n",
       "      <td>0</td>\n",
       "      <td>0</td>\n",
       "      <td>0</td>\n",
       "      <td>0</td>\n",
       "      <td>0</td>\n",
       "      <td>0</td>\n",
       "    </tr>\n",
       "    <tr>\n",
       "      <td>3</td>\n",
       "      <td>41</td>\n",
       "      <td>2015</td>\n",
       "      <td>49.282609</td>\n",
       "      <td>78617</td>\n",
       "      <td>0</td>\n",
       "      <td>0</td>\n",
       "      <td>1</td>\n",
       "      <td>0</td>\n",
       "      <td>1</td>\n",
       "      <td>0</td>\n",
       "      <td>...</td>\n",
       "      <td>0</td>\n",
       "      <td>0</td>\n",
       "      <td>1</td>\n",
       "      <td>0</td>\n",
       "      <td>0</td>\n",
       "      <td>0</td>\n",
       "      <td>0</td>\n",
       "      <td>1</td>\n",
       "      <td>0</td>\n",
       "      <td>0</td>\n",
       "    </tr>\n",
       "    <tr>\n",
       "      <td>4</td>\n",
       "      <td>56</td>\n",
       "      <td>2015</td>\n",
       "      <td>49.282609</td>\n",
       "      <td>78720</td>\n",
       "      <td>1</td>\n",
       "      <td>0</td>\n",
       "      <td>0</td>\n",
       "      <td>1</td>\n",
       "      <td>0</td>\n",
       "      <td>1</td>\n",
       "      <td>...</td>\n",
       "      <td>0</td>\n",
       "      <td>0</td>\n",
       "      <td>0</td>\n",
       "      <td>0</td>\n",
       "      <td>0</td>\n",
       "      <td>0</td>\n",
       "      <td>0</td>\n",
       "      <td>0</td>\n",
       "      <td>0</td>\n",
       "      <td>0</td>\n",
       "    </tr>\n",
       "  </tbody>\n",
       "</table>\n",
       "<p>5 rows × 65 columns</p>\n",
       "</div>"
      ],
      "text/plain": [
       "   Age  Year       PAID  Zip_code  Class_ARCF  Class_EB  Class_PCHW  \\\n",
       "0   47  2016  13.750000     78741           0         0           0   \n",
       "1   35  2015  49.282609     78758           0         0           1   \n",
       "2   58  2015  49.282609     78753           1         0           0   \n",
       "3   41  2015  49.282609     78617           0         0           1   \n",
       "4   56  2015  49.282609     78720           1         0           0   \n",
       "\n",
       "   Class_Language_English  Class_Language_Spanish  Gender_M  ...  \\\n",
       "0                       1                       0         0  ...   \n",
       "1                       0                       1         0  ...   \n",
       "2                       1                       0         0  ...   \n",
       "3                       0                       1         0  ...   \n",
       "4                       1                       0         1  ...   \n",
       "\n",
       "   Carbs_counting_1-3  Carbs_counting_4 or more  \\\n",
       "0                   0                         0   \n",
       "1                   0                         0   \n",
       "2                   0                         0   \n",
       "3                   0                         0   \n",
       "4                   0                         0   \n",
       "\n",
       "   Carbs_counting_I don't know how  Carbs_counting_Not Sure  Exercise_1 day  \\\n",
       "0                                0                        0               1   \n",
       "1                                1                        0               1   \n",
       "2                                1                        0               0   \n",
       "3                                1                        0               0   \n",
       "4                                0                        0               0   \n",
       "\n",
       "   Exercise_2 days  Exercise_3 days  Exercise_4 days  Exercise_5 or more days  \\\n",
       "0                0                0                0                        0   \n",
       "1                0                0                0                        0   \n",
       "2                0                0                0                        0   \n",
       "3                0                0                1                        0   \n",
       "4                0                0                0                        0   \n",
       "\n",
       "   Exercise_Not Sure  \n",
       "0                  0  \n",
       "1                  0  \n",
       "2                  0  \n",
       "3                  0  \n",
       "4                  0  \n",
       "\n",
       "[5 rows x 65 columns]"
      ]
     },
     "execution_count": 43,
     "metadata": {},
     "output_type": "execute_result"
    }
   ],
   "source": [
    "X.head()"
   ]
  },
  {
   "cell_type": "code",
   "execution_count": 46,
   "metadata": {
    "scrolled": true
   },
   "outputs": [
    {
     "data": {
      "text/plain": [
       "(1674, 65)"
      ]
     },
     "execution_count": 46,
     "metadata": {},
     "output_type": "execute_result"
    }
   ],
   "source": [
    "X.shape"
   ]
  },
  {
   "cell_type": "code",
   "execution_count": 47,
   "metadata": {},
   "outputs": [
    {
     "data": {
      "text/plain": [
       "(1674,)"
      ]
     },
     "execution_count": 47,
     "metadata": {},
     "output_type": "execute_result"
    }
   ],
   "source": [
    "y.shape"
   ]
  },
  {
   "cell_type": "code",
   "execution_count": 48,
   "metadata": {
    "scrolled": true
   },
   "outputs": [
    {
     "data": {
      "text/plain": [
       "0    1\n",
       "1    0\n",
       "2    0\n",
       "3    0\n",
       "4    0\n",
       "Name: Diabetes_Status, dtype: int64"
      ]
     },
     "execution_count": 48,
     "metadata": {},
     "output_type": "execute_result"
    }
   ],
   "source": [
    "y.head()"
   ]
  },
  {
   "cell_type": "markdown",
   "metadata": {},
   "source": [
    "# visualizing some necessary plots."
   ]
  },
  {
   "cell_type": "code",
   "execution_count": 49,
   "metadata": {
    "scrolled": true
   },
   "outputs": [
    {
     "data": {
      "text/plain": [
       "<seaborn.axisgrid.FacetGrid at 0x7f0868984c90>"
      ]
     },
     "execution_count": 49,
     "metadata": {},
     "output_type": "execute_result"
    },
    {
     "data": {
      "image/png": "[encoded data removed]",
      "text/plain": [
       "<Figure size 449.125x360 with 1 Axes>"
      ]
     },
     "metadata": {
      "needs_background": "light"
     },
     "output_type": "display_data"
    }
   ],
   "source": [
    "sns.catplot('Gender', 'Age', hue = 'Diabetes_Status', data = data, kind='bar')"
   ]
  },
  {
   "cell_type": "code",
   "execution_count": 50,
   "metadata": {},
   "outputs": [
    {
     "data": {
      "text/plain": [
       "<seaborn.axisgrid.FacetGrid at 0x7f0855340e10>"
      ]
     },
     "execution_count": 50,
     "metadata": {},
     "output_type": "execute_result"
    },
    {
     "data": {
      "image/png": "[encoded data removed]",
      "text/plain": [
       "<Figure size 449.125x360 with 1 Axes>"
      ]
     },
     "metadata": {
      "needs_background": "light"
     },
     "output_type": "display_data"
    }
   ],
   "source": [
    "sns.catplot('Class_Language', 'PAID',hue='Diabetes_Status',data=data,kind='bar')"
   ]
  },
  {
   "cell_type": "code",
   "execution_count": 51,
   "metadata": {},
   "outputs": [
    {
     "data": {
      "text/plain": [
       "<seaborn.axisgrid.FacetGrid at 0x7f085524a390>"
      ]
     },
     "execution_count": 51,
     "metadata": {},
     "output_type": "execute_result"
    },
    {
     "data": {
      "image/png": "[encoded data removed]",
      "text/plain": [
       "<Figure size 953.125x432 with 1 Axes>"
      ]
     },
     "metadata": {
      "needs_background": "light"
     },
     "output_type": "display_data"
    }
   ],
   "source": [
    "sns.catplot('Exercise', 'Age', hue = 'Diabetes_Status', data = data, kind='bar', height=6, aspect=2)"
   ]
  },
  {
   "cell_type": "code",
   "execution_count": 52,
   "metadata": {},
   "outputs": [
    {
     "data": {
      "text/plain": [
       "<seaborn.axisgrid.FacetGrid at 0x7f08551e2350>"
      ]
     },
     "execution_count": 52,
     "metadata": {},
     "output_type": "execute_result"
    },
    {
     "data": {
      "image/png": "[encoded data removed]",
      "text/plain": [
       "<Figure size 953.125x432 with 1 Axes>"
      ]
     },
     "metadata": {
      "needs_background": "light"
     },
     "output_type": "display_data"
    }
   ],
   "source": [
    "sns.catplot('Sugar_Beverage_Consumption', 'Age', hue = 'Diabetes_Status', data = data, kind='bar', height=6, aspect=2)"
   ]
  },
  {
   "cell_type": "markdown",
   "metadata": {},
   "source": [
    "# checking the correlation."
   ]
  },
  {
   "cell_type": "code",
   "execution_count": 53,
   "metadata": {},
   "outputs": [
    {
     "data": {
      "text/html": [
       "<div>\n",
       "<style scoped>\n",
       "    .dataframe tbody tr th:only-of-type {\n",
       "        vertical-align: middle;\n",
       "    }\n",
       "\n",
       "    .dataframe tbody tr th {\n",
       "        vertical-align: top;\n",
       "    }\n",
       "\n",
       "    .dataframe thead th {\n",
       "        text-align: right;\n",
       "    }\n",
       "</style>\n",
       "<table border=\"1\" class=\"dataframe\">\n",
       "  <thead>\n",
       "    <tr style=\"text-align: right;\">\n",
       "      <th></th>\n",
       "      <th>Age</th>\n",
       "      <th>Year</th>\n",
       "      <th>Diabetes_Status</th>\n",
       "      <th>PAID</th>\n",
       "      <th>Zip_code</th>\n",
       "    </tr>\n",
       "  </thead>\n",
       "  <tbody>\n",
       "    <tr>\n",
       "      <td>Age</td>\n",
       "      <td>1.000000</td>\n",
       "      <td>0.044729</td>\n",
       "      <td>0.319220</td>\n",
       "      <td>-0.165225</td>\n",
       "      <td>-0.015934</td>\n",
       "    </tr>\n",
       "    <tr>\n",
       "      <td>Year</td>\n",
       "      <td>0.044729</td>\n",
       "      <td>1.000000</td>\n",
       "      <td>0.010554</td>\n",
       "      <td>-0.002294</td>\n",
       "      <td>-0.027890</td>\n",
       "    </tr>\n",
       "    <tr>\n",
       "      <td>Diabetes_Status</td>\n",
       "      <td>0.319220</td>\n",
       "      <td>0.010554</td>\n",
       "      <td>1.000000</td>\n",
       "      <td>-0.129114</td>\n",
       "      <td>-0.029640</td>\n",
       "    </tr>\n",
       "    <tr>\n",
       "      <td>PAID</td>\n",
       "      <td>-0.165225</td>\n",
       "      <td>-0.002294</td>\n",
       "      <td>-0.129114</td>\n",
       "      <td>1.000000</td>\n",
       "      <td>0.026667</td>\n",
       "    </tr>\n",
       "    <tr>\n",
       "      <td>Zip_code</td>\n",
       "      <td>-0.015934</td>\n",
       "      <td>-0.027890</td>\n",
       "      <td>-0.029640</td>\n",
       "      <td>0.026667</td>\n",
       "      <td>1.000000</td>\n",
       "    </tr>\n",
       "  </tbody>\n",
       "</table>\n",
       "</div>"
      ],
      "text/plain": [
       "                      Age      Year  Diabetes_Status      PAID  Zip_code\n",
       "Age              1.000000  0.044729         0.319220 -0.165225 -0.015934\n",
       "Year             0.044729  1.000000         0.010554 -0.002294 -0.027890\n",
       "Diabetes_Status  0.319220  0.010554         1.000000 -0.129114 -0.029640\n",
       "PAID            -0.165225 -0.002294        -0.129114  1.000000  0.026667\n",
       "Zip_code        -0.015934 -0.027890        -0.029640  0.026667  1.000000"
      ]
     },
     "execution_count": 53,
     "metadata": {},
     "output_type": "execute_result"
    }
   ],
   "source": [
    "data.corr()"
   ]
  },
  {
   "cell_type": "markdown",
   "metadata": {},
   "source": [
    "# Without feature selection we using DT to check the accuracy."
   ]
  },
  {
   "cell_type": "code",
   "execution_count": 54,
   "metadata": {},
   "outputs": [
    {
     "data": {
      "text/plain": [
       "DecisionTreeClassifier(class_weight=None, criterion='entropy', max_depth=None,\n",
       "                       max_features=None, max_leaf_nodes=None,\n",
       "                       min_impurity_decrease=0.0, min_impurity_split=None,\n",
       "                       min_samples_leaf=1, min_samples_split=2,\n",
       "                       min_weight_fraction_leaf=0.0, presort=False,\n",
       "                       random_state=0, splitter='best')"
      ]
     },
     "execution_count": 54,
     "metadata": {},
     "output_type": "execute_result"
    }
   ],
   "source": [
    "classifier = DecisionTreeClassifier(criterion = 'entropy', random_state = 0)\n",
    "classifier.fit(X, y)\n"
   ]
  },
  {
   "cell_type": "code",
   "execution_count": 55,
   "metadata": {},
   "outputs": [
    {
     "data": {
      "text/plain": [
       "0.9115899544195191"
      ]
     },
     "execution_count": 55,
     "metadata": {},
     "output_type": "execute_result"
    }
   ],
   "source": [
    "# using cross validation to overcome the overfitting problem.\n",
    "cross_val_score(classifier, X, y, cv=5, scoring='accuracy').mean()"
   ]
  },
  {
   "cell_type": "markdown",
   "metadata": {},
   "source": [
    "# Feature Selection Techniques."
   ]
  },
  {
   "cell_type": "markdown",
   "metadata": {},
   "source": [
    "## Univariate Selection"
   ]
  },
  {
   "cell_type": "code",
   "execution_count": 56,
   "metadata": {},
   "outputs": [],
   "source": [
    "import numpy as np\n",
    "from sklearn.feature_selection import SelectKBest\n",
    "from sklearn.feature_selection import chi2"
   ]
  },
  {
   "cell_type": "code",
   "execution_count": 57,
   "metadata": {},
   "outputs": [],
   "source": [
    "#apply SelectKBest class to extract top 10 best features\n",
    "bestfeatures = SelectKBest(score_func=chi2, k=8)\n",
    "fit = bestfeatures.fit(X,y)"
   ]
  },
  {
   "cell_type": "code",
   "execution_count": 58,
   "metadata": {},
   "outputs": [],
   "source": [
    "dfscores = pd.DataFrame(fit.scores_)\n",
    "dfcolumns = pd.DataFrame(X.columns)"
   ]
  },
  {
   "cell_type": "code",
   "execution_count": 59,
   "metadata": {},
   "outputs": [],
   "source": [
    "#concat two dataframes for better visualization \n",
    "featureScores = pd.concat([dfcolumns,dfscores],axis=1)\n",
    "featureScores.columns = ['Specs','Score']  #naming the dataframe columns"
   ]
  },
  {
   "cell_type": "code",
   "execution_count": 60,
   "metadata": {},
   "outputs": [
    {
     "data": {
      "text/html": [
       "<div>\n",
       "<style scoped>\n",
       "    .dataframe tbody tr th:only-of-type {\n",
       "        vertical-align: middle;\n",
       "    }\n",
       "\n",
       "    .dataframe tbody tr th {\n",
       "        vertical-align: top;\n",
       "    }\n",
       "\n",
       "    .dataframe thead th {\n",
       "        text-align: right;\n",
       "    }\n",
       "</style>\n",
       "<table border=\"1\" class=\"dataframe\">\n",
       "  <thead>\n",
       "    <tr style=\"text-align: right;\">\n",
       "      <th></th>\n",
       "      <th>Specs</th>\n",
       "      <th>Score</th>\n",
       "    </tr>\n",
       "  </thead>\n",
       "  <tbody>\n",
       "    <tr>\n",
       "      <td>0</td>\n",
       "      <td>Age</td>\n",
       "      <td>786.464716</td>\n",
       "    </tr>\n",
       "    <tr>\n",
       "      <td>1</td>\n",
       "      <td>Year</td>\n",
       "      <td>0.000055</td>\n",
       "    </tr>\n",
       "    <tr>\n",
       "      <td>2</td>\n",
       "      <td>PAID</td>\n",
       "      <td>169.505659</td>\n",
       "    </tr>\n",
       "    <tr>\n",
       "      <td>3</td>\n",
       "      <td>Zip_code</td>\n",
       "      <td>0.340352</td>\n",
       "    </tr>\n",
       "    <tr>\n",
       "      <td>4</td>\n",
       "      <td>Class_ARCF</td>\n",
       "      <td>14.047497</td>\n",
       "    </tr>\n",
       "    <tr>\n",
       "      <td>...</td>\n",
       "      <td>...</td>\n",
       "      <td>...</td>\n",
       "    </tr>\n",
       "    <tr>\n",
       "      <td>60</td>\n",
       "      <td>Exercise_2 days</td>\n",
       "      <td>1.980314</td>\n",
       "    </tr>\n",
       "    <tr>\n",
       "      <td>61</td>\n",
       "      <td>Exercise_3 days</td>\n",
       "      <td>1.903933</td>\n",
       "    </tr>\n",
       "    <tr>\n",
       "      <td>62</td>\n",
       "      <td>Exercise_4 days</td>\n",
       "      <td>0.303383</td>\n",
       "    </tr>\n",
       "    <tr>\n",
       "      <td>63</td>\n",
       "      <td>Exercise_5 or more days</td>\n",
       "      <td>10.925534</td>\n",
       "    </tr>\n",
       "    <tr>\n",
       "      <td>64</td>\n",
       "      <td>Exercise_Not Sure</td>\n",
       "      <td>0.595418</td>\n",
       "    </tr>\n",
       "  </tbody>\n",
       "</table>\n",
       "<p>65 rows × 2 columns</p>\n",
       "</div>"
      ],
      "text/plain": [
       "                      Specs       Score\n",
       "0                       Age  786.464716\n",
       "1                      Year    0.000055\n",
       "2                      PAID  169.505659\n",
       "3                  Zip_code    0.340352\n",
       "4                Class_ARCF   14.047497\n",
       "..                      ...         ...\n",
       "60          Exercise_2 days    1.980314\n",
       "61          Exercise_3 days    1.903933\n",
       "62          Exercise_4 days    0.303383\n",
       "63  Exercise_5 or more days   10.925534\n",
       "64        Exercise_Not Sure    0.595418\n",
       "\n",
       "[65 rows x 2 columns]"
      ]
     },
     "execution_count": 60,
     "metadata": {},
     "output_type": "execute_result"
    }
   ],
   "source": [
    "featureScores"
   ]
  },
  {
   "cell_type": "code",
   "execution_count": 61,
   "metadata": {},
   "outputs": [
    {
     "name": "stdout",
     "output_type": "stream",
     "text": [
      "                              Specs       Score\n",
      "0                               Age  786.464716\n",
      "2                              PAID  169.505659\n",
      "37                      High_BP_Yes   92.632300\n",
      "9                          Gender_M   47.191690\n",
      "39  Previous_Diabetes_Education_Yes   43.577150\n",
      "7            Class_Language_English   36.088960\n"
     ]
    }
   ],
   "source": [
    "print(featureScores.nlargest(6,'Score'))"
   ]
  },
  {
   "cell_type": "markdown",
   "metadata": {},
   "source": [
    "## Feature Importance."
   ]
  },
  {
   "cell_type": "code",
   "execution_count": 62,
   "metadata": {},
   "outputs": [
    {
     "name": "stderr",
     "output_type": "stream",
     "text": [
      "/home/ritu/anaconda3/lib/python3.7/site-packages/sklearn/ensemble/forest.py:245: FutureWarning: The default value of n_estimators will change from 10 in version 0.20 to 100 in 0.22.\n",
      "  \"10 in version 0.20 to 100 in 0.22.\", FutureWarning)\n"
     ]
    },
    {
     "data": {
      "text/plain": [
       "ExtraTreesClassifier(bootstrap=False, class_weight=None, criterion='gini',\n",
       "                     max_depth=None, max_features='auto', max_leaf_nodes=None,\n",
       "                     min_impurity_decrease=0.0, min_impurity_split=None,\n",
       "                     min_samples_leaf=1, min_samples_split=2,\n",
       "                     min_weight_fraction_leaf=0.0, n_estimators=10, n_jobs=None,\n",
       "                     oob_score=False, random_state=None, verbose=0,\n",
       "                     warm_start=False)"
      ]
     },
     "execution_count": 62,
     "metadata": {},
     "output_type": "execute_result"
    }
   ],
   "source": [
    "from sklearn.ensemble import ExtraTreesClassifier\n",
    "import matplotlib.pyplot as plt\n",
    "model = ExtraTreesClassifier()\n",
    "model.fit(X,y)\n"
   ]
  },
  {
   "cell_type": "code",
   "execution_count": 63,
   "metadata": {},
   "outputs": [
    {
     "name": "stdout",
     "output_type": "stream",
     "text": [
      "[0.07721683 0.0212906  0.21410062 0.03215447 0.00953668 0.01417636\n",
      " 0.00683893 0.01245338 0.01374127 0.02595875 0.01029654 0.01048974\n",
      " 0.01242908 0.01173051 0.01092761 0.01147438 0.00767792 0.00375045\n",
      " 0.00502569 0.00941808 0.0116283  0.01198959 0.00592624 0.00054423\n",
      " 0.00321957 0.01121556 0.00098687 0.00040565 0.00819336 0.01320531\n",
      " 0.00987273 0.01265974 0.01130603 0.00180286 0.00030577 0.00069299\n",
      " 0.01014909 0.0488575  0.00782468 0.03253554 0.01932323 0.01562648\n",
      " 0.01610254 0.0146849  0.00868737 0.00338066 0.0186129  0.01232479\n",
      " 0.01221142 0.00219161 0.01556374 0.01625361 0.00928618 0.01224099\n",
      " 0.         0.01300379 0.0073434  0.00892988 0.         0.01369916\n",
      " 0.0150658  0.01485935 0.00888586 0.01671494 0.00099788]\n"
     ]
    }
   ],
   "source": [
    "print(model.feature_importances_) #use inbuilt class feature_importances of tree based classifiers\n"
   ]
  },
  {
   "cell_type": "code",
   "execution_count": 64,
   "metadata": {
    "scrolled": true
   },
   "outputs": [
    {
     "data": {
      "image/png": "[encoded data removed]",
      "text/plain": [
       "<Figure size 432x288 with 1 Axes>"
      ]
     },
     "metadata": {
      "needs_background": "light"
     },
     "output_type": "display_data"
    }
   ],
   "source": [
    "#plot graph of feature importances for better visualization\n",
    "feat_importances = pd.Series(model.feature_importances_, index=X.columns)\n",
    "feat_importances.nlargest(6).plot(kind='bar')\n",
    "plt.show()\n"
   ]
  },
  {
   "cell_type": "code",
   "execution_count": 65,
   "metadata": {
    "scrolled": true
   },
   "outputs": [],
   "source": [
    "# Creating new Independent variable X with the features.\n",
    "X = X.loc[:,['PAID','Age','Previous_Diabetes_Education_Yes','Gender_M','Class_Language_English','High_BP_Yes','Class_Language_Spanish']]"
   ]
  },
  {
   "cell_type": "code",
   "execution_count": 66,
   "metadata": {},
   "outputs": [
    {
     "data": {
      "text/plain": [
       "(1674, 7)"
      ]
     },
     "execution_count": 66,
     "metadata": {},
     "output_type": "execute_result"
    }
   ],
   "source": [
    "X.shape"
   ]
  },
  {
   "cell_type": "code",
   "execution_count": 67,
   "metadata": {},
   "outputs": [
    {
     "data": {
      "text/plain": [
       "PAID                               0\n",
       "Age                                0\n",
       "Previous_Diabetes_Education_Yes    0\n",
       "Gender_M                           0\n",
       "Class_Language_English             0\n",
       "High_BP_Yes                        0\n",
       "Class_Language_Spanish             0\n",
       "dtype: int64"
      ]
     },
     "execution_count": 67,
     "metadata": {},
     "output_type": "execute_result"
    }
   ],
   "source": [
    "X.isnull().sum()"
   ]
  },
  {
   "cell_type": "markdown",
   "metadata": {},
   "source": [
    "## Applying feature scaling technique"
   ]
  },
  {
   "cell_type": "code",
   "execution_count": 68,
   "metadata": {},
   "outputs": [
    {
     "data": {
      "text/plain": [
       "array([[-1.98237597, -0.15429054,  1.28730061, ...,  1.26946621,\n",
       "        -0.75521949, -1.21957779],\n",
       "       [ 0.11216699, -0.95002566, -0.77681933, ..., -0.78773266,\n",
       "        -0.75521949,  0.8199559 ],\n",
       "       [ 0.11216699,  0.57513332, -0.77681933, ...,  1.26946621,\n",
       "         1.32411838, -1.21957779],\n",
       "       ...,\n",
       "       [ 0.11216699, -0.02166802, -0.77681933, ...,  1.26946621,\n",
       "         1.32411838, -1.21957779],\n",
       "       [-0.95080235, -1.48051574, -0.77681933, ..., -0.78773266,\n",
       "        -0.75521949,  0.8199559 ],\n",
       "       [ 0.11216699,  0.57513332, -0.77681933, ..., -0.78773266,\n",
       "        -0.75521949,  0.8199559 ]])"
      ]
     },
     "execution_count": 68,
     "metadata": {},
     "output_type": "execute_result"
    }
   ],
   "source": [
    "from sklearn.preprocessing import StandardScaler\n",
    "sc = StandardScaler()\n",
    "X= sc.fit_transform(X)\n",
    "X"
   ]
  },
  {
   "cell_type": "code",
   "execution_count": 69,
   "metadata": {},
   "outputs": [
    {
     "data": {
      "text/plain": [
       "DecisionTreeClassifier(class_weight=None, criterion='entropy', max_depth=None,\n",
       "                       max_features=None, max_leaf_nodes=None,\n",
       "                       min_impurity_decrease=0.0, min_impurity_split=None,\n",
       "                       min_samples_leaf=1, min_samples_split=2,\n",
       "                       min_weight_fraction_leaf=0.0, presort=False,\n",
       "                       random_state=0, splitter='best')"
      ]
     },
     "execution_count": 69,
     "metadata": {},
     "output_type": "execute_result"
    }
   ],
   "source": [
    "from sklearn.tree import DecisionTreeClassifier\n",
    "classifier = DecisionTreeClassifier(criterion = 'entropy', random_state = 0)\n",
    "classifier.fit(X, y)\n"
   ]
  },
  {
   "cell_type": "code",
   "execution_count": 70,
   "metadata": {},
   "outputs": [
    {
     "data": {
      "text/plain": [
       "0.9247350075967468"
      ]
     },
     "execution_count": 70,
     "metadata": {},
     "output_type": "execute_result"
    }
   ],
   "source": [
    "cross_val_score(classifier, X, y, cv=5, scoring='accuracy').mean()"
   ]
  },
  {
   "cell_type": "code",
   "execution_count": 71,
   "metadata": {},
   "outputs": [],
   "source": [
    "# for tuning the hyperparametes we are using Grid search here.\n",
    "from sklearn.model_selection import GridSearchCV"
   ]
  },
  {
   "cell_type": "code",
   "execution_count": 72,
   "metadata": {},
   "outputs": [],
   "source": [
    "# define the parameter values that should be searched\n",
    "max_depth_range = list(range(1, 10))\n",
    "max_leaf_nodes_range = list(range(2, 10))"
   ]
  },
  {
   "cell_type": "code",
   "execution_count": 73,
   "metadata": {},
   "outputs": [
    {
     "name": "stdout",
     "output_type": "stream",
     "text": [
      "{'max_depth': [1, 2, 3, 4, 5, 6, 7, 8, 9], 'max_leaf_nodes': [2, 3, 4, 5, 6, 7, 8, 9]}\n"
     ]
    }
   ],
   "source": [
    "# create a parameter grid: map the parameter names to the values that should be searched\n",
    "param_grid = dict(max_depth=max_depth_range, max_leaf_nodes=max_leaf_nodes_range)\n",
    "print(param_grid)"
   ]
  },
  {
   "cell_type": "code",
   "execution_count": 74,
   "metadata": {},
   "outputs": [
    {
     "data": {
      "text/plain": [
       "GridSearchCV(cv=10, error_score='raise-deprecating',\n",
       "             estimator=DecisionTreeClassifier(class_weight=None,\n",
       "                                              criterion='entropy',\n",
       "                                              max_depth=None, max_features=None,\n",
       "                                              max_leaf_nodes=None,\n",
       "                                              min_impurity_decrease=0.0,\n",
       "                                              min_impurity_split=None,\n",
       "                                              min_samples_leaf=1,\n",
       "                                              min_samples_split=2,\n",
       "                                              min_weight_fraction_leaf=0.0,\n",
       "                                              presort=False, random_state=0,\n",
       "                                              splitter='best'),\n",
       "             iid='warn', n_jobs=None,\n",
       "             param_grid={'max_depth': [1, 2, 3, 4, 5, 6, 7, 8, 9],\n",
       "                         'max_leaf_nodes': [2, 3, 4, 5, 6, 7, 8, 9]},\n",
       "             pre_dispatch='2*n_jobs', refit=True, return_train_score=False,\n",
       "             scoring='accuracy', verbose=0)"
      ]
     },
     "execution_count": 74,
     "metadata": {},
     "output_type": "execute_result"
    }
   ],
   "source": [
    "# instantiate and fit the grid\n",
    "grid = GridSearchCV(classifier, param_grid, cv=10, scoring='accuracy', return_train_score=False)\n",
    "grid.fit(X, y)"
   ]
  },
  {
   "cell_type": "code",
   "execution_count": 75,
   "metadata": {},
   "outputs": [
    {
     "data": {
      "text/html": [
       "<div>\n",
       "<style scoped>\n",
       "    .dataframe tbody tr th:only-of-type {\n",
       "        vertical-align: middle;\n",
       "    }\n",
       "\n",
       "    .dataframe tbody tr th {\n",
       "        vertical-align: top;\n",
       "    }\n",
       "\n",
       "    .dataframe thead th {\n",
       "        text-align: right;\n",
       "    }\n",
       "</style>\n",
       "<table border=\"1\" class=\"dataframe\">\n",
       "  <thead>\n",
       "    <tr style=\"text-align: right;\">\n",
       "      <th></th>\n",
       "      <th>mean_test_score</th>\n",
       "      <th>std_test_score</th>\n",
       "      <th>params</th>\n",
       "    </tr>\n",
       "  </thead>\n",
       "  <tbody>\n",
       "    <tr>\n",
       "      <td>0</td>\n",
       "      <td>0.790920</td>\n",
       "      <td>0.016324</td>\n",
       "      <td>{'max_depth': 1, 'max_leaf_nodes': 2}</td>\n",
       "    </tr>\n",
       "    <tr>\n",
       "      <td>1</td>\n",
       "      <td>0.790920</td>\n",
       "      <td>0.016324</td>\n",
       "      <td>{'max_depth': 1, 'max_leaf_nodes': 3}</td>\n",
       "    </tr>\n",
       "    <tr>\n",
       "      <td>2</td>\n",
       "      <td>0.790920</td>\n",
       "      <td>0.016324</td>\n",
       "      <td>{'max_depth': 1, 'max_leaf_nodes': 4}</td>\n",
       "    </tr>\n",
       "    <tr>\n",
       "      <td>3</td>\n",
       "      <td>0.790920</td>\n",
       "      <td>0.016324</td>\n",
       "      <td>{'max_depth': 1, 'max_leaf_nodes': 5}</td>\n",
       "    </tr>\n",
       "    <tr>\n",
       "      <td>4</td>\n",
       "      <td>0.790920</td>\n",
       "      <td>0.016324</td>\n",
       "      <td>{'max_depth': 1, 'max_leaf_nodes': 6}</td>\n",
       "    </tr>\n",
       "    <tr>\n",
       "      <td>...</td>\n",
       "      <td>...</td>\n",
       "      <td>...</td>\n",
       "      <td>...</td>\n",
       "    </tr>\n",
       "    <tr>\n",
       "      <td>67</td>\n",
       "      <td>0.947431</td>\n",
       "      <td>0.011219</td>\n",
       "      <td>{'max_depth': 9, 'max_leaf_nodes': 5}</td>\n",
       "    </tr>\n",
       "    <tr>\n",
       "      <td>68</td>\n",
       "      <td>0.946834</td>\n",
       "      <td>0.011431</td>\n",
       "      <td>{'max_depth': 9, 'max_leaf_nodes': 6}</td>\n",
       "    </tr>\n",
       "    <tr>\n",
       "      <td>69</td>\n",
       "      <td>0.946834</td>\n",
       "      <td>0.011431</td>\n",
       "      <td>{'max_depth': 9, 'max_leaf_nodes': 7}</td>\n",
       "    </tr>\n",
       "    <tr>\n",
       "      <td>70</td>\n",
       "      <td>0.946834</td>\n",
       "      <td>0.011431</td>\n",
       "      <td>{'max_depth': 9, 'max_leaf_nodes': 8}</td>\n",
       "    </tr>\n",
       "    <tr>\n",
       "      <td>71</td>\n",
       "      <td>0.946834</td>\n",
       "      <td>0.011431</td>\n",
       "      <td>{'max_depth': 9, 'max_leaf_nodes': 9}</td>\n",
       "    </tr>\n",
       "  </tbody>\n",
       "</table>\n",
       "<p>72 rows × 3 columns</p>\n",
       "</div>"
      ],
      "text/plain": [
       "    mean_test_score  std_test_score                                 params\n",
       "0          0.790920        0.016324  {'max_depth': 1, 'max_leaf_nodes': 2}\n",
       "1          0.790920        0.016324  {'max_depth': 1, 'max_leaf_nodes': 3}\n",
       "2          0.790920        0.016324  {'max_depth': 1, 'max_leaf_nodes': 4}\n",
       "3          0.790920        0.016324  {'max_depth': 1, 'max_leaf_nodes': 5}\n",
       "4          0.790920        0.016324  {'max_depth': 1, 'max_leaf_nodes': 6}\n",
       "..              ...             ...                                    ...\n",
       "67         0.947431        0.011219  {'max_depth': 9, 'max_leaf_nodes': 5}\n",
       "68         0.946834        0.011431  {'max_depth': 9, 'max_leaf_nodes': 6}\n",
       "69         0.946834        0.011431  {'max_depth': 9, 'max_leaf_nodes': 7}\n",
       "70         0.946834        0.011431  {'max_depth': 9, 'max_leaf_nodes': 8}\n",
       "71         0.946834        0.011431  {'max_depth': 9, 'max_leaf_nodes': 9}\n",
       "\n",
       "[72 rows x 3 columns]"
      ]
     },
     "execution_count": 75,
     "metadata": {},
     "output_type": "execute_result"
    }
   ],
   "source": [
    "# view the results\n",
    "pd.DataFrame(grid.cv_results_)[['mean_test_score', 'std_test_score', 'params']]"
   ]
  },
  {
   "cell_type": "code",
   "execution_count": 76,
   "metadata": {
    "scrolled": true
   },
   "outputs": [
    {
     "name": "stdout",
     "output_type": "stream",
     "text": [
      "0.9474313022700119\n",
      "{'max_depth': 2, 'max_leaf_nodes': 3}\n"
     ]
    }
   ],
   "source": [
    "# examine the best model\n",
    "print(grid.best_score_)\n",
    "print(grid.best_params_)"
   ]
  },
  {
   "cell_type": "markdown",
   "metadata": {},
   "source": [
    "## Spliting the dataset into 80% of training set & 20% of testing set."
   ]
  },
  {
   "cell_type": "code",
   "execution_count": 77,
   "metadata": {},
   "outputs": [],
   "source": [
    "from sklearn.model_selection import train_test_split\n",
    "X_train,X_test,y_train,y_test = train_test_split(X,y,train_size=0.8,random_state=100)"
   ]
  },
  {
   "cell_type": "code",
   "execution_count": 84,
   "metadata": {},
   "outputs": [
    {
     "data": {
      "text/plain": [
       "DecisionTreeClassifier(class_weight=None, criterion='gini', max_depth=2,\n",
       "                       max_features=None, max_leaf_nodes=3,\n",
       "                       min_impurity_decrease=0.0, min_impurity_split=None,\n",
       "                       min_samples_leaf=1, min_samples_split=2,\n",
       "                       min_weight_fraction_leaf=0.0, presort=False,\n",
       "                       random_state=0, splitter='best')"
      ]
     },
     "execution_count": 84,
     "metadata": {},
     "output_type": "execute_result"
    }
   ],
   "source": [
    "classifier = DecisionTreeClassifier(criterion = 'gini', random_state = 0,max_depth=2,max_leaf_nodes=3)\n",
    "classifier.fit(X_train, y_train)\n"
   ]
  },
  {
   "cell_type": "markdown",
   "metadata": {},
   "source": [
    "## predicting the test results"
   ]
  },
  {
   "cell_type": "code",
   "execution_count": 85,
   "metadata": {},
   "outputs": [
    {
     "data": {
      "text/plain": [
       "array([0, 0, 0, 1, 0, 1, 0, 0, 1, 1, 0, 0, 0, 1, 1, 1, 0, 0, 0, 1, 1, 0,\n",
       "       0, 0, 0, 0, 0, 1, 1, 1, 0, 0, 0, 0, 1, 1, 0, 0, 0, 1, 0, 0, 1, 0,\n",
       "       0, 0, 0, 0, 0, 1, 0, 1, 0, 1, 1, 0, 0, 0, 0, 1, 0, 1, 0, 1, 0, 0,\n",
       "       0, 0, 1, 0, 0, 1, 1, 0, 0, 1, 0, 0, 0, 1, 1, 1, 0, 0, 0, 1, 0, 0,\n",
       "       0, 0, 1, 1, 0, 1, 1, 0, 0, 0, 1, 1, 0, 1, 0, 1, 0, 0, 0, 1, 1, 1,\n",
       "       1, 0, 1, 1, 1, 1, 1, 0, 1, 0, 1, 0, 0, 1, 1, 0, 0, 1, 0, 1, 0, 0,\n",
       "       1, 1, 0, 1, 1, 0, 1, 0, 0, 0, 1, 0, 1, 0, 0, 0, 0, 0, 1, 1, 0, 0,\n",
       "       0, 1, 1, 0, 1, 1, 0, 1, 1, 1, 1, 1, 0, 1, 1, 0, 1, 1, 1, 0, 0, 1,\n",
       "       1, 1, 0, 1, 0, 1, 0, 0, 1, 1, 0, 0, 0, 0, 1, 0, 0, 1, 1, 0, 1, 0,\n",
       "       1, 0, 0, 1, 1, 1, 1, 0, 0, 0, 1, 0, 0, 1, 0, 0, 1, 0, 1, 0, 0, 0,\n",
       "       0, 0, 1, 1, 0, 0, 1, 0, 1, 0, 0, 1, 0, 1, 0, 0, 0, 0, 0, 1, 0, 1,\n",
       "       1, 0, 0, 0, 1, 0, 0, 0, 1, 0, 0, 0, 1, 0, 0, 0, 1, 0, 0, 0, 0, 0,\n",
       "       0, 1, 0, 1, 0, 0, 0, 1, 0, 1, 0, 1, 0, 0, 1, 0, 1, 0, 0, 0, 1, 0,\n",
       "       1, 1, 0, 0, 1, 0, 0, 0, 0, 1, 0, 0, 0, 1, 1, 1, 0, 0, 0, 0, 1, 1,\n",
       "       0, 0, 0, 0, 0, 0, 0, 1, 1, 0, 1, 0, 0, 1, 1, 0, 1, 0, 0, 1, 1, 0,\n",
       "       1, 0, 0, 0, 0])"
      ]
     },
     "execution_count": 85,
     "metadata": {},
     "output_type": "execute_result"
    }
   ],
   "source": [
    "y_pred=classifier.predict(X_test)\n",
    "y_pred"
   ]
  },
  {
   "cell_type": "code",
   "execution_count": 80,
   "metadata": {},
   "outputs": [],
   "source": [
    "from sklearn.metrics import confusion_matrix,accuracy_score,classification_report"
   ]
  },
  {
   "cell_type": "markdown",
   "metadata": {},
   "source": [
    "## creating confusion matrix"
   ]
  },
  {
   "cell_type": "code",
   "execution_count": 81,
   "metadata": {
    "scrolled": true
   },
   "outputs": [
    {
     "data": {
      "text/plain": [
       "array([[181,   0],\n",
       "       [ 18, 136]])"
      ]
     },
     "execution_count": 81,
     "metadata": {},
     "output_type": "execute_result"
    }
   ],
   "source": [
    "cm = confusion_matrix(y_test,y_pred)\n",
    "cm"
   ]
  },
  {
   "cell_type": "markdown",
   "metadata": {},
   "source": [
    "## creating Classification report."
   ]
  },
  {
   "cell_type": "code",
   "execution_count": 82,
   "metadata": {},
   "outputs": [
    {
     "data": {
      "text/plain": [
       "'              precision    recall  f1-score   support\\n\\n           0       0.91      1.00      0.95       181\\n           1       1.00      0.88      0.94       154\\n\\n    accuracy                           0.95       335\\n   macro avg       0.95      0.94      0.95       335\\nweighted avg       0.95      0.95      0.95       335\\n'"
      ]
     },
     "execution_count": 82,
     "metadata": {},
     "output_type": "execute_result"
    }
   ],
   "source": [
    "classification_report(y_test,y_pred)"
   ]
  },
  {
   "cell_type": "code",
   "execution_count": 83,
   "metadata": {},
   "outputs": [
    {
     "data": {
      "text/plain": [
       "0.9474322995799446"
      ]
     },
     "execution_count": 83,
     "metadata": {},
     "output_type": "execute_result"
    }
   ],
   "source": [
    "cross_val_score(classifier, X, y, cv=5, scoring='accuracy').mean()"
   ]
  },
  {
   "cell_type": "markdown",
   "metadata": {},
   "source": [
    "## Applying Naive bayes"
   ]
  },
  {
   "cell_type": "code",
   "execution_count": 86,
   "metadata": {},
   "outputs": [],
   "source": [
    "from sklearn.naive_bayes import BernoulliNB, GaussianNB,MultinomialNB"
   ]
  },
  {
   "cell_type": "code",
   "execution_count": 87,
   "metadata": {},
   "outputs": [
    {
     "data": {
      "text/plain": [
       "BernoulliNB(alpha=1.0, binarize=0.0, class_prior=None, fit_prior=True)"
      ]
     },
     "execution_count": 87,
     "metadata": {},
     "output_type": "execute_result"
    }
   ],
   "source": [
    "ber = BernoulliNB()\n",
    "ber.fit(X_train,y_train)"
   ]
  },
  {
   "cell_type": "code",
   "execution_count": 88,
   "metadata": {
    "scrolled": true
   },
   "outputs": [
    {
     "data": {
      "text/plain": [
       "0.7461274465993386"
      ]
     },
     "execution_count": 88,
     "metadata": {},
     "output_type": "execute_result"
    }
   ],
   "source": [
    "cross_val_score(ber, X, y, cv=5, scoring='accuracy').mean()"
   ]
  },
  {
   "cell_type": "code",
   "execution_count": 89,
   "metadata": {
    "scrolled": true
   },
   "outputs": [
    {
     "data": {
      "text/plain": [
       "array([1, 0, 0, 1, 0, 1, 0, 0, 1, 0, 0, 0, 0, 0, 1, 0, 0, 0, 0, 1, 0, 0,\n",
       "       0, 1, 0, 0, 0, 1, 1, 0, 0, 0, 0, 0, 1, 1, 0, 0, 0, 1, 0, 0, 1, 0,\n",
       "       0, 1, 0, 0, 0, 1, 0, 1, 0, 0, 1, 0, 0, 0, 0, 0, 0, 0, 0, 1, 0, 0,\n",
       "       1, 0, 1, 1, 0, 1, 1, 0, 0, 0, 0, 0, 1, 1, 1, 1, 0, 1, 1, 1, 1, 0,\n",
       "       0, 0, 0, 0, 1, 0, 1, 0, 0, 0, 0, 1, 1, 0, 0, 0, 0, 0, 0, 1, 1, 1,\n",
       "       1, 0, 1, 1, 1, 1, 1, 0, 1, 0, 1, 1, 0, 1, 1, 0, 0, 1, 0, 0, 0, 0,\n",
       "       1, 1, 0, 1, 1, 0, 0, 0, 0, 0, 1, 0, 1, 0, 0, 0, 0, 0, 0, 1, 0, 0,\n",
       "       0, 1, 0, 0, 0, 0, 0, 0, 1, 0, 1, 1, 0, 1, 1, 0, 0, 0, 1, 0, 0, 0,\n",
       "       1, 1, 0, 0, 0, 0, 0, 1, 1, 0, 0, 0, 0, 0, 1, 0, 0, 0, 1, 0, 1, 0,\n",
       "       1, 0, 0, 1, 1, 1, 1, 0, 0, 0, 1, 1, 0, 1, 0, 1, 1, 0, 1, 1, 1, 1,\n",
       "       1, 1, 1, 0, 0, 0, 1, 0, 1, 0, 1, 0, 0, 1, 0, 0, 1, 1, 0, 1, 0, 1,\n",
       "       1, 0, 0, 0, 1, 0, 0, 0, 0, 1, 1, 0, 0, 0, 0, 0, 1, 0, 1, 1, 0, 0,\n",
       "       0, 1, 0, 1, 0, 0, 0, 1, 0, 0, 0, 1, 0, 0, 1, 0, 0, 0, 0, 0, 1, 1,\n",
       "       1, 1, 0, 0, 1, 0, 0, 1, 0, 1, 0, 0, 0, 0, 0, 0, 0, 0, 0, 0, 1, 0,\n",
       "       0, 0, 0, 0, 1, 0, 0, 1, 1, 1, 0, 1, 1, 1, 1, 0, 1, 0, 0, 1, 1, 0,\n",
       "       1, 0, 1, 0, 0])"
      ]
     },
     "execution_count": 89,
     "metadata": {},
     "output_type": "execute_result"
    }
   ],
   "source": [
    "y_pred = ber.predict(X_test)\n",
    "y_pred"
   ]
  },
  {
   "cell_type": "markdown",
   "metadata": {},
   "source": [
    "## creating confusion matrix"
   ]
  },
  {
   "cell_type": "code",
   "execution_count": 90,
   "metadata": {},
   "outputs": [
    {
     "data": {
      "text/plain": [
       "array([[152,  29],\n",
       "       [ 54, 100]])"
      ]
     },
     "execution_count": 90,
     "metadata": {},
     "output_type": "execute_result"
    }
   ],
   "source": [
    "cm = confusion_matrix(y_test,y_pred)\n",
    "cm"
   ]
  },
  {
   "cell_type": "markdown",
   "metadata": {},
   "source": [
    "## creating classification report"
   ]
  },
  {
   "cell_type": "code",
   "execution_count": 91,
   "metadata": {},
   "outputs": [
    {
     "data": {
      "text/plain": [
       "'              precision    recall  f1-score   support\\n\\n           0       0.74      0.84      0.79       181\\n           1       0.78      0.65      0.71       154\\n\\n    accuracy                           0.75       335\\n   macro avg       0.76      0.74      0.75       335\\nweighted avg       0.76      0.75      0.75       335\\n'"
      ]
     },
     "execution_count": 91,
     "metadata": {},
     "output_type": "execute_result"
    }
   ],
   "source": [
    "classification_report(y_test,y_pred)"
   ]
  },
  {
   "cell_type": "markdown",
   "metadata": {},
   "source": [
    "## Applying SVM"
   ]
  },
  {
   "cell_type": "code",
   "execution_count": 92,
   "metadata": {},
   "outputs": [],
   "source": [
    "from sklearn import svm"
   ]
  },
  {
   "cell_type": "code",
   "execution_count": 93,
   "metadata": {},
   "outputs": [
    {
     "name": "stderr",
     "output_type": "stream",
     "text": [
      "/home/ritu/anaconda3/lib/python3.7/site-packages/sklearn/svm/base.py:193: FutureWarning: The default value of gamma will change from 'auto' to 'scale' in version 0.22 to account better for unscaled features. Set gamma explicitly to 'auto' or 'scale' to avoid this warning.\n",
      "  \"avoid this warning.\", FutureWarning)\n"
     ]
    },
    {
     "data": {
      "text/plain": [
       "SVC(C=1.0, cache_size=200, class_weight=None, coef0=0.0,\n",
       "    decision_function_shape='ovr', degree=3, gamma='auto_deprecated',\n",
       "    kernel='rbf', max_iter=-1, probability=False, random_state=None,\n",
       "    shrinking=True, tol=0.001, verbose=False)"
      ]
     },
     "execution_count": 93,
     "metadata": {},
     "output_type": "execute_result"
    }
   ],
   "source": [
    "rb = svm.SVC(kernel='rbf')\n",
    "rb.fit(X_train,y_train)"
   ]
  },
  {
   "cell_type": "code",
   "execution_count": 94,
   "metadata": {},
   "outputs": [
    {
     "data": {
      "text/plain": [
       "array([0, 0, 0, 1, 0, 1, 0, 0, 1, 1, 0, 0, 0, 1, 1, 1, 0, 0, 0, 0, 0, 0,\n",
       "       0, 0, 0, 0, 0, 1, 1, 0, 0, 0, 0, 0, 1, 1, 0, 0, 0, 1, 0, 0, 1, 0,\n",
       "       0, 1, 0, 0, 0, 1, 0, 0, 0, 1, 1, 0, 0, 0, 0, 1, 0, 1, 0, 1, 0, 0,\n",
       "       0, 0, 0, 1, 0, 1, 1, 0, 0, 1, 0, 0, 0, 1, 1, 0, 0, 0, 0, 1, 0, 0,\n",
       "       0, 0, 0, 1, 0, 0, 1, 0, 0, 0, 1, 1, 0, 1, 0, 1, 0, 0, 0, 1, 0, 1,\n",
       "       1, 0, 1, 1, 1, 1, 1, 0, 1, 0, 1, 0, 0, 1, 1, 0, 0, 1, 0, 1, 0, 0,\n",
       "       1, 1, 0, 1, 1, 0, 1, 0, 0, 0, 1, 0, 1, 0, 0, 0, 0, 0, 1, 0, 0, 0,\n",
       "       0, 1, 1, 0, 1, 1, 0, 1, 1, 1, 1, 1, 0, 1, 1, 0, 1, 1, 1, 0, 0, 1,\n",
       "       1, 1, 0, 1, 0, 1, 0, 0, 1, 0, 0, 0, 0, 0, 1, 0, 1, 1, 1, 0, 1, 0,\n",
       "       1, 0, 0, 1, 1, 1, 1, 0, 0, 0, 1, 1, 0, 1, 0, 1, 1, 0, 1, 0, 1, 1,\n",
       "       1, 0, 1, 1, 0, 0, 1, 0, 1, 0, 0, 1, 0, 0, 0, 0, 0, 0, 0, 0, 0, 1,\n",
       "       1, 0, 0, 0, 1, 0, 0, 0, 0, 0, 0, 0, 1, 0, 0, 0, 1, 0, 1, 0, 0, 0,\n",
       "       0, 1, 0, 1, 0, 0, 0, 1, 0, 0, 0, 1, 0, 0, 1, 0, 1, 0, 0, 0, 1, 0,\n",
       "       1, 1, 0, 0, 1, 0, 0, 1, 0, 1, 0, 0, 0, 1, 0, 1, 0, 0, 0, 0, 1, 0,\n",
       "       1, 0, 0, 0, 0, 0, 0, 1, 1, 1, 0, 0, 0, 1, 1, 0, 0, 0, 0, 0, 1, 0,\n",
       "       1, 0, 0, 0, 0])"
      ]
     },
     "execution_count": 94,
     "metadata": {},
     "output_type": "execute_result"
    }
   ],
   "source": [
    "y_pred = rb.predict(X_test)\n",
    "y_pred"
   ]
  },
  {
   "cell_type": "markdown",
   "metadata": {},
   "source": [
    "## creating confusion matrix"
   ]
  },
  {
   "cell_type": "code",
   "execution_count": 95,
   "metadata": {},
   "outputs": [
    {
     "data": {
      "text/plain": [
       "array([[171,  10],\n",
       "       [ 36, 118]])"
      ]
     },
     "execution_count": 95,
     "metadata": {},
     "output_type": "execute_result"
    }
   ],
   "source": [
    "cm = confusion_matrix(y_test,y_pred)\n",
    "cm"
   ]
  },
  {
   "cell_type": "markdown",
   "metadata": {},
   "source": [
    "## creating classification report"
   ]
  },
  {
   "cell_type": "code",
   "execution_count": 96,
   "metadata": {
    "scrolled": true
   },
   "outputs": [
    {
     "data": {
      "text/plain": [
       "'              precision    recall  f1-score   support\\n\\n           0       0.83      0.94      0.88       181\\n           1       0.92      0.77      0.84       154\\n\\n    accuracy                           0.86       335\\n   macro avg       0.87      0.86      0.86       335\\nweighted avg       0.87      0.86      0.86       335\\n'"
      ]
     },
     "execution_count": 96,
     "metadata": {},
     "output_type": "execute_result"
    }
   ],
   "source": [
    "classification_report(y_test,y_pred)"
   ]
  },
  {
   "cell_type": "code",
   "execution_count": 97,
   "metadata": {},
   "outputs": [
    {
     "data": {
      "text/plain": [
       "0.8626865671641791"
      ]
     },
     "execution_count": 97,
     "metadata": {},
     "output_type": "execute_result"
    }
   ],
   "source": [
    "accuracy_score(y_test,y_pred)"
   ]
  },
  {
   "cell_type": "markdown",
   "metadata": {},
   "source": [
    "## Grid Search Analysis for SVM."
   ]
  },
  {
   "cell_type": "code",
   "execution_count": 98,
   "metadata": {},
   "outputs": [],
   "source": [
    "c= list(range(1,10))\n",
    "Gamma=[3,2,1,0.1]"
   ]
  },
  {
   "cell_type": "code",
   "execution_count": 99,
   "metadata": {},
   "outputs": [
    {
     "name": "stdout",
     "output_type": "stream",
     "text": [
      "{'C': [1, 2, 3, 4, 5, 6, 7, 8, 9], 'gamma': [3, 2, 1, 0.1]}\n"
     ]
    }
   ],
   "source": [
    "## create a parameter grid: map the parameter names to the values that should be searched\n",
    "param_grid = dict(C=c, gamma=Gamma)\n",
    "print(param_grid)"
   ]
  },
  {
   "cell_type": "code",
   "execution_count": 100,
   "metadata": {},
   "outputs": [
    {
     "data": {
      "text/plain": [
       "GridSearchCV(cv=10, error_score='raise-deprecating',\n",
       "             estimator=SVC(C=1.0, cache_size=200, class_weight=None, coef0=0.0,\n",
       "                           decision_function_shape='ovr', degree=3,\n",
       "                           gamma='auto_deprecated', kernel='rbf', max_iter=-1,\n",
       "                           probability=False, random_state=None, shrinking=True,\n",
       "                           tol=0.001, verbose=False),\n",
       "             iid='warn', n_jobs=None,\n",
       "             param_grid={'C': [1, 2, 3, 4, 5, 6, 7, 8, 9],\n",
       "                         'gamma': [3, 2, 1, 0.1]},\n",
       "             pre_dispatch='2*n_jobs', refit=True, return_train_score=False,\n",
       "             scoring='accuracy', verbose=0)"
      ]
     },
     "execution_count": 100,
     "metadata": {},
     "output_type": "execute_result"
    }
   ],
   "source": [
    "# instantiate and fit the grid\n",
    "grid = GridSearchCV(rb, param_grid, cv=10, scoring='accuracy', return_train_score=False)\n",
    "grid.fit(X, y)"
   ]
  },
  {
   "cell_type": "code",
   "execution_count": 101,
   "metadata": {
    "scrolled": true
   },
   "outputs": [
    {
     "data": {
      "text/html": [
       "<div>\n",
       "<style scoped>\n",
       "    .dataframe tbody tr th:only-of-type {\n",
       "        vertical-align: middle;\n",
       "    }\n",
       "\n",
       "    .dataframe tbody tr th {\n",
       "        vertical-align: top;\n",
       "    }\n",
       "\n",
       "    .dataframe thead th {\n",
       "        text-align: right;\n",
       "    }\n",
       "</style>\n",
       "<table border=\"1\" class=\"dataframe\">\n",
       "  <thead>\n",
       "    <tr style=\"text-align: right;\">\n",
       "      <th></th>\n",
       "      <th>mean_test_score</th>\n",
       "      <th>std_test_score</th>\n",
       "      <th>params</th>\n",
       "    </tr>\n",
       "  </thead>\n",
       "  <tbody>\n",
       "    <tr>\n",
       "      <td>0</td>\n",
       "      <td>0.866786</td>\n",
       "      <td>0.024649</td>\n",
       "      <td>{'C': 1, 'gamma': 3}</td>\n",
       "    </tr>\n",
       "    <tr>\n",
       "      <td>1</td>\n",
       "      <td>0.865591</td>\n",
       "      <td>0.024123</td>\n",
       "      <td>{'C': 1, 'gamma': 2}</td>\n",
       "    </tr>\n",
       "    <tr>\n",
       "      <td>2</td>\n",
       "      <td>0.851852</td>\n",
       "      <td>0.022502</td>\n",
       "      <td>{'C': 1, 'gamma': 1}</td>\n",
       "    </tr>\n",
       "    <tr>\n",
       "      <td>3</td>\n",
       "      <td>0.836320</td>\n",
       "      <td>0.025486</td>\n",
       "      <td>{'C': 1, 'gamma': 0.1}</td>\n",
       "    </tr>\n",
       "    <tr>\n",
       "      <td>4</td>\n",
       "      <td>0.875747</td>\n",
       "      <td>0.021331</td>\n",
       "      <td>{'C': 2, 'gamma': 3}</td>\n",
       "    </tr>\n",
       "    <tr>\n",
       "      <td>5</td>\n",
       "      <td>0.867384</td>\n",
       "      <td>0.022281</td>\n",
       "      <td>{'C': 2, 'gamma': 2}</td>\n",
       "    </tr>\n",
       "    <tr>\n",
       "      <td>6</td>\n",
       "      <td>0.854241</td>\n",
       "      <td>0.021772</td>\n",
       "      <td>{'C': 2, 'gamma': 1}</td>\n",
       "    </tr>\n",
       "    <tr>\n",
       "      <td>7</td>\n",
       "      <td>0.840502</td>\n",
       "      <td>0.023526</td>\n",
       "      <td>{'C': 2, 'gamma': 0.1}</td>\n",
       "    </tr>\n",
       "    <tr>\n",
       "      <td>8</td>\n",
       "      <td>0.875149</td>\n",
       "      <td>0.018794</td>\n",
       "      <td>{'C': 3, 'gamma': 3}</td>\n",
       "    </tr>\n",
       "    <tr>\n",
       "      <td>9</td>\n",
       "      <td>0.868578</td>\n",
       "      <td>0.020631</td>\n",
       "      <td>{'C': 3, 'gamma': 2}</td>\n",
       "    </tr>\n",
       "    <tr>\n",
       "      <td>10</td>\n",
       "      <td>0.856631</td>\n",
       "      <td>0.021410</td>\n",
       "      <td>{'C': 3, 'gamma': 1}</td>\n",
       "    </tr>\n",
       "    <tr>\n",
       "      <td>11</td>\n",
       "      <td>0.843489</td>\n",
       "      <td>0.026090</td>\n",
       "      <td>{'C': 3, 'gamma': 0.1}</td>\n",
       "    </tr>\n",
       "    <tr>\n",
       "      <td>12</td>\n",
       "      <td>0.878136</td>\n",
       "      <td>0.017151</td>\n",
       "      <td>{'C': 4, 'gamma': 3}</td>\n",
       "    </tr>\n",
       "    <tr>\n",
       "      <td>13</td>\n",
       "      <td>0.872162</td>\n",
       "      <td>0.019228</td>\n",
       "      <td>{'C': 4, 'gamma': 2}</td>\n",
       "    </tr>\n",
       "    <tr>\n",
       "      <td>14</td>\n",
       "      <td>0.857228</td>\n",
       "      <td>0.018733</td>\n",
       "      <td>{'C': 4, 'gamma': 1}</td>\n",
       "    </tr>\n",
       "    <tr>\n",
       "      <td>15</td>\n",
       "      <td>0.845281</td>\n",
       "      <td>0.023282</td>\n",
       "      <td>{'C': 4, 'gamma': 0.1}</td>\n",
       "    </tr>\n",
       "    <tr>\n",
       "      <td>16</td>\n",
       "      <td>0.881123</td>\n",
       "      <td>0.018622</td>\n",
       "      <td>{'C': 5, 'gamma': 3}</td>\n",
       "    </tr>\n",
       "    <tr>\n",
       "      <td>17</td>\n",
       "      <td>0.874552</td>\n",
       "      <td>0.018253</td>\n",
       "      <td>{'C': 5, 'gamma': 2}</td>\n",
       "    </tr>\n",
       "    <tr>\n",
       "      <td>18</td>\n",
       "      <td>0.859020</td>\n",
       "      <td>0.018705</td>\n",
       "      <td>{'C': 5, 'gamma': 1}</td>\n",
       "    </tr>\n",
       "    <tr>\n",
       "      <td>19</td>\n",
       "      <td>0.848865</td>\n",
       "      <td>0.018430</td>\n",
       "      <td>{'C': 5, 'gamma': 0.1}</td>\n",
       "    </tr>\n",
       "    <tr>\n",
       "      <td>20</td>\n",
       "      <td>0.880526</td>\n",
       "      <td>0.019848</td>\n",
       "      <td>{'C': 6, 'gamma': 3}</td>\n",
       "    </tr>\n",
       "    <tr>\n",
       "      <td>21</td>\n",
       "      <td>0.875149</td>\n",
       "      <td>0.019467</td>\n",
       "      <td>{'C': 6, 'gamma': 2}</td>\n",
       "    </tr>\n",
       "    <tr>\n",
       "      <td>22</td>\n",
       "      <td>0.860812</td>\n",
       "      <td>0.018313</td>\n",
       "      <td>{'C': 6, 'gamma': 1}</td>\n",
       "    </tr>\n",
       "    <tr>\n",
       "      <td>23</td>\n",
       "      <td>0.850060</td>\n",
       "      <td>0.018985</td>\n",
       "      <td>{'C': 6, 'gamma': 0.1}</td>\n",
       "    </tr>\n",
       "    <tr>\n",
       "      <td>24</td>\n",
       "      <td>0.881720</td>\n",
       "      <td>0.019614</td>\n",
       "      <td>{'C': 7, 'gamma': 3}</td>\n",
       "    </tr>\n",
       "    <tr>\n",
       "      <td>25</td>\n",
       "      <td>0.875149</td>\n",
       "      <td>0.017936</td>\n",
       "      <td>{'C': 7, 'gamma': 2}</td>\n",
       "    </tr>\n",
       "    <tr>\n",
       "      <td>26</td>\n",
       "      <td>0.859618</td>\n",
       "      <td>0.017166</td>\n",
       "      <td>{'C': 7, 'gamma': 1}</td>\n",
       "    </tr>\n",
       "    <tr>\n",
       "      <td>27</td>\n",
       "      <td>0.851852</td>\n",
       "      <td>0.021180</td>\n",
       "      <td>{'C': 7, 'gamma': 0.1}</td>\n",
       "    </tr>\n",
       "    <tr>\n",
       "      <td>28</td>\n",
       "      <td>0.880526</td>\n",
       "      <td>0.018523</td>\n",
       "      <td>{'C': 8, 'gamma': 3}</td>\n",
       "    </tr>\n",
       "    <tr>\n",
       "      <td>29</td>\n",
       "      <td>0.876344</td>\n",
       "      <td>0.018059</td>\n",
       "      <td>{'C': 8, 'gamma': 2}</td>\n",
       "    </tr>\n",
       "    <tr>\n",
       "      <td>30</td>\n",
       "      <td>0.862605</td>\n",
       "      <td>0.015087</td>\n",
       "      <td>{'C': 8, 'gamma': 1}</td>\n",
       "    </tr>\n",
       "    <tr>\n",
       "      <td>31</td>\n",
       "      <td>0.851254</td>\n",
       "      <td>0.021179</td>\n",
       "      <td>{'C': 8, 'gamma': 0.1}</td>\n",
       "    </tr>\n",
       "    <tr>\n",
       "      <td>32</td>\n",
       "      <td>0.882915</td>\n",
       "      <td>0.018161</td>\n",
       "      <td>{'C': 9, 'gamma': 3}</td>\n",
       "    </tr>\n",
       "    <tr>\n",
       "      <td>33</td>\n",
       "      <td>0.875747</td>\n",
       "      <td>0.018797</td>\n",
       "      <td>{'C': 9, 'gamma': 2}</td>\n",
       "    </tr>\n",
       "    <tr>\n",
       "      <td>34</td>\n",
       "      <td>0.863799</td>\n",
       "      <td>0.015741</td>\n",
       "      <td>{'C': 9, 'gamma': 1}</td>\n",
       "    </tr>\n",
       "    <tr>\n",
       "      <td>35</td>\n",
       "      <td>0.853644</td>\n",
       "      <td>0.020788</td>\n",
       "      <td>{'C': 9, 'gamma': 0.1}</td>\n",
       "    </tr>\n",
       "  </tbody>\n",
       "</table>\n",
       "</div>"
      ],
      "text/plain": [
       "    mean_test_score  std_test_score                  params\n",
       "0          0.866786        0.024649    {'C': 1, 'gamma': 3}\n",
       "1          0.865591        0.024123    {'C': 1, 'gamma': 2}\n",
       "2          0.851852        0.022502    {'C': 1, 'gamma': 1}\n",
       "3          0.836320        0.025486  {'C': 1, 'gamma': 0.1}\n",
       "4          0.875747        0.021331    {'C': 2, 'gamma': 3}\n",
       "5          0.867384        0.022281    {'C': 2, 'gamma': 2}\n",
       "6          0.854241        0.021772    {'C': 2, 'gamma': 1}\n",
       "7          0.840502        0.023526  {'C': 2, 'gamma': 0.1}\n",
       "8          0.875149        0.018794    {'C': 3, 'gamma': 3}\n",
       "9          0.868578        0.020631    {'C': 3, 'gamma': 2}\n",
       "10         0.856631        0.021410    {'C': 3, 'gamma': 1}\n",
       "11         0.843489        0.026090  {'C': 3, 'gamma': 0.1}\n",
       "12         0.878136        0.017151    {'C': 4, 'gamma': 3}\n",
       "13         0.872162        0.019228    {'C': 4, 'gamma': 2}\n",
       "14         0.857228        0.018733    {'C': 4, 'gamma': 1}\n",
       "15         0.845281        0.023282  {'C': 4, 'gamma': 0.1}\n",
       "16         0.881123        0.018622    {'C': 5, 'gamma': 3}\n",
       "17         0.874552        0.018253    {'C': 5, 'gamma': 2}\n",
       "18         0.859020        0.018705    {'C': 5, 'gamma': 1}\n",
       "19         0.848865        0.018430  {'C': 5, 'gamma': 0.1}\n",
       "20         0.880526        0.019848    {'C': 6, 'gamma': 3}\n",
       "21         0.875149        0.019467    {'C': 6, 'gamma': 2}\n",
       "22         0.860812        0.018313    {'C': 6, 'gamma': 1}\n",
       "23         0.850060        0.018985  {'C': 6, 'gamma': 0.1}\n",
       "24         0.881720        0.019614    {'C': 7, 'gamma': 3}\n",
       "25         0.875149        0.017936    {'C': 7, 'gamma': 2}\n",
       "26         0.859618        0.017166    {'C': 7, 'gamma': 1}\n",
       "27         0.851852        0.021180  {'C': 7, 'gamma': 0.1}\n",
       "28         0.880526        0.018523    {'C': 8, 'gamma': 3}\n",
       "29         0.876344        0.018059    {'C': 8, 'gamma': 2}\n",
       "30         0.862605        0.015087    {'C': 8, 'gamma': 1}\n",
       "31         0.851254        0.021179  {'C': 8, 'gamma': 0.1}\n",
       "32         0.882915        0.018161    {'C': 9, 'gamma': 3}\n",
       "33         0.875747        0.018797    {'C': 9, 'gamma': 2}\n",
       "34         0.863799        0.015741    {'C': 9, 'gamma': 1}\n",
       "35         0.853644        0.020788  {'C': 9, 'gamma': 0.1}"
      ]
     },
     "execution_count": 101,
     "metadata": {},
     "output_type": "execute_result"
    }
   ],
   "source": [
    "# view the results\n",
    "pd.DataFrame(grid.cv_results_)[['mean_test_score', 'std_test_score', 'params']]"
   ]
  },
  {
   "cell_type": "code",
   "execution_count": 102,
   "metadata": {},
   "outputs": [
    {
     "name": "stdout",
     "output_type": "stream",
     "text": [
      "0.8829151732377539\n",
      "{'C': 9, 'gamma': 3}\n"
     ]
    }
   ],
   "source": [
    "# examine the best model\n",
    "print(grid.best_score_)\n",
    "print(grid.best_params_)"
   ]
  },
  {
   "cell_type": "markdown",
   "metadata": {},
   "source": [
    "## Again applying the SVM with tuned Hyperparameter."
   ]
  },
  {
   "cell_type": "code",
   "execution_count": 103,
   "metadata": {},
   "outputs": [
    {
     "data": {
      "text/plain": [
       "SVC(C=9, cache_size=200, class_weight=None, coef0=0.0,\n",
       "    decision_function_shape='ovr', degree=3, gamma=3, kernel='rbf', max_iter=-1,\n",
       "    probability=False, random_state=None, shrinking=True, tol=0.001,\n",
       "    verbose=False)"
      ]
     },
     "execution_count": 103,
     "metadata": {},
     "output_type": "execute_result"
    }
   ],
   "source": [
    "rb = svm.SVC(kernel='rbf', C=9, gamma = 3)\n",
    "rb.fit(X_train,y_train)"
   ]
  },
  {
   "cell_type": "code",
   "execution_count": 104,
   "metadata": {},
   "outputs": [
    {
     "data": {
      "text/plain": [
       "array([0, 0, 0, 1, 0, 1, 0, 0, 1, 1, 0, 0, 0, 1, 1, 1, 0, 0, 0, 1, 1, 0,\n",
       "       0, 0, 0, 0, 0, 1, 1, 0, 0, 0, 0, 0, 1, 1, 0, 0, 0, 1, 0, 0, 0, 0,\n",
       "       0, 0, 0, 0, 0, 1, 0, 1, 0, 1, 1, 0, 0, 0, 0, 1, 0, 1, 0, 1, 0, 0,\n",
       "       0, 0, 0, 0, 0, 1, 1, 0, 0, 1, 0, 0, 0, 1, 1, 0, 0, 0, 0, 1, 0, 0,\n",
       "       0, 0, 1, 1, 0, 1, 1, 0, 0, 0, 1, 1, 0, 1, 0, 1, 0, 0, 0, 1, 0, 1,\n",
       "       1, 0, 1, 1, 0, 1, 1, 1, 1, 0, 1, 0, 0, 1, 1, 0, 0, 1, 0, 1, 0, 0,\n",
       "       1, 1, 0, 1, 1, 0, 1, 0, 0, 0, 1, 0, 1, 0, 0, 0, 0, 0, 1, 0, 0, 0,\n",
       "       0, 0, 1, 0, 1, 1, 0, 1, 1, 1, 1, 1, 0, 1, 1, 0, 1, 1, 1, 0, 0, 1,\n",
       "       1, 1, 1, 1, 0, 1, 0, 0, 1, 0, 0, 0, 0, 0, 1, 0, 0, 1, 1, 0, 1, 0,\n",
       "       1, 0, 0, 1, 1, 1, 1, 0, 0, 0, 1, 0, 0, 1, 0, 0, 1, 0, 1, 1, 0, 0,\n",
       "       0, 0, 1, 1, 0, 0, 1, 0, 1, 0, 0, 1, 0, 0, 0, 0, 0, 0, 0, 1, 0, 1,\n",
       "       1, 0, 0, 0, 1, 0, 0, 0, 0, 0, 0, 0, 1, 0, 0, 0, 1, 0, 0, 1, 0, 0,\n",
       "       0, 1, 0, 1, 0, 0, 0, 1, 0, 0, 0, 1, 0, 0, 1, 0, 1, 0, 0, 0, 1, 0,\n",
       "       1, 1, 0, 0, 1, 0, 0, 0, 0, 1, 0, 0, 0, 1, 0, 1, 0, 0, 0, 0, 1, 1,\n",
       "       0, 0, 0, 0, 0, 0, 0, 1, 1, 1, 0, 0, 0, 1, 1, 0, 1, 0, 0, 1, 1, 0,\n",
       "       1, 0, 0, 0, 0])"
      ]
     },
     "execution_count": 104,
     "metadata": {},
     "output_type": "execute_result"
    }
   ],
   "source": [
    "y_pred = rb.predict(X_test)\n",
    "y_pred"
   ]
  },
  {
   "cell_type": "markdown",
   "metadata": {},
   "source": [
    "## creating confusion matrix"
   ]
  },
  {
   "cell_type": "code",
   "execution_count": 105,
   "metadata": {},
   "outputs": [
    {
     "data": {
      "text/plain": [
       "array([[176,   5],\n",
       "       [ 32, 122]])"
      ]
     },
     "execution_count": 105,
     "metadata": {},
     "output_type": "execute_result"
    }
   ],
   "source": [
    "cm = confusion_matrix(y_test,y_pred)\n",
    "cm"
   ]
  },
  {
   "cell_type": "markdown",
   "metadata": {},
   "source": [
    "## creating classfication report"
   ]
  },
  {
   "cell_type": "code",
   "execution_count": 106,
   "metadata": {},
   "outputs": [
    {
     "data": {
      "text/plain": [
       "'              precision    recall  f1-score   support\\n\\n           0       0.85      0.97      0.90       181\\n           1       0.96      0.79      0.87       154\\n\\n    accuracy                           0.89       335\\n   macro avg       0.90      0.88      0.89       335\\nweighted avg       0.90      0.89      0.89       335\\n'"
      ]
     },
     "execution_count": 106,
     "metadata": {},
     "output_type": "execute_result"
    }
   ],
   "source": [
    "classification_report(y_test,y_pred)"
   ]
  },
  {
   "cell_type": "code",
   "execution_count": 107,
   "metadata": {},
   "outputs": [
    {
     "data": {
      "text/plain": [
       "0.8895522388059701"
      ]
     },
     "execution_count": 107,
     "metadata": {},
     "output_type": "execute_result"
    }
   ],
   "source": [
    "accuracy_score(y_test,y_pred)"
   ]
  },
  {
   "cell_type": "markdown",
   "metadata": {},
   "source": [
    "## Applying XGBoost"
   ]
  },
  {
   "cell_type": "code",
   "execution_count": 108,
   "metadata": {},
   "outputs": [],
   "source": [
    "from xgboost import XGBClassifier"
   ]
  },
  {
   "cell_type": "markdown",
   "metadata": {},
   "source": [
    "## Tuned XGBoost "
   ]
  },
  {
   "cell_type": "code",
   "execution_count": 109,
   "metadata": {
    "scrolled": true
   },
   "outputs": [
    {
     "data": {
      "text/plain": [
       "XGBClassifier(base_score=0.5, booster='gbtree', colsample_bylevel=1,\n",
       "              colsample_bynode=1, colsample_bytree=1, gamma=0, gpu_id=-1,\n",
       "              importance_type='gain', interaction_constraints='',\n",
       "              learning_rate=0.1, max_delta_step=0, max_depth=2,\n",
       "              min_child_weight=1, missing=nan, monotone_constraints='()',\n",
       "              n_estimators=2, n_jobs=0, num_parallel_tree=1,\n",
       "              objective='binary:logistic', random_state=0, reg_alpha=0,\n",
       "              reg_lambda=1, scale_pos_weight=1, subsample=1,\n",
       "              tree_method='exact', validate_parameters=1, verbosity=None)"
      ]
     },
     "execution_count": 109,
     "metadata": {},
     "output_type": "execute_result"
    }
   ],
   "source": [
    "boost = XGBClassifier(gamma=0,max_depth=2,n_estimators=2,learning_rate=0.1)\n",
    "boost.fit(X_train,y_train)\n",
    "boost"
   ]
  },
  {
   "cell_type": "code",
   "execution_count": 110,
   "metadata": {},
   "outputs": [],
   "source": [
    "Gamma = [0]\n",
    "estimators=list(range(2,10))\n",
    "learn_rate=[0,0.1,0.01,0.0001,0.2,0.02,0.3,0.03]\n",
    "max_dept=list(range(2,10))"
   ]
  },
  {
   "cell_type": "code",
   "execution_count": 111,
   "metadata": {},
   "outputs": [
    {
     "data": {
      "text/plain": [
       "{'gamma': [0],\n",
       " 'n_estimators': [2, 3, 4, 5, 6, 7, 8, 9],\n",
       " 'learning_rate': [0, 0.1, 0.01, 0.0001, 0.2, 0.02, 0.3, 0.03],\n",
       " 'max_depth': [2, 3, 4, 5, 6, 7, 8, 9]}"
      ]
     },
     "execution_count": 111,
     "metadata": {},
     "output_type": "execute_result"
    }
   ],
   "source": [
    "param_grid=dict(gamma=Gamma,n_estimators=estimators,learning_rate=learn_rate,max_depth=max_dept)\n",
    "param_grid"
   ]
  },
  {
   "cell_type": "code",
   "execution_count": 112,
   "metadata": {},
   "outputs": [
    {
     "data": {
      "text/plain": [
       "GridSearchCV(cv=10, error_score='raise-deprecating',\n",
       "             estimator=XGBClassifier(base_score=0.5, booster='gbtree',\n",
       "                                     colsample_bylevel=1, colsample_bynode=1,\n",
       "                                     colsample_bytree=1, gamma=0, gpu_id=-1,\n",
       "                                     importance_type='gain',\n",
       "                                     interaction_constraints='',\n",
       "                                     learning_rate=0.1, max_delta_step=0,\n",
       "                                     max_depth=2, min_child_weight=1,\n",
       "                                     missing=nan, monotone_constraints='()',\n",
       "                                     n_estimators=...\n",
       "                                     random_state=0, reg_alpha=0, reg_lambda=1,\n",
       "                                     scale_pos_weight=1, subsample=1,\n",
       "                                     tree_method='exact', validate_parameters=1,\n",
       "                                     verbosity=None),\n",
       "             iid='warn', n_jobs=None,\n",
       "             param_grid={'gamma': [0],\n",
       "                         'learning_rate': [0, 0.1, 0.01, 0.0001, 0.2, 0.02, 0.3,\n",
       "                                           0.03],\n",
       "                         'max_depth': [2, 3, 4, 5, 6, 7, 8, 9],\n",
       "                         'n_estimators': [2, 3, 4, 5, 6, 7, 8, 9]},\n",
       "             pre_dispatch='2*n_jobs', refit=True, return_train_score=False,\n",
       "             scoring='accuracy', verbose=0)"
      ]
     },
     "execution_count": 112,
     "metadata": {},
     "output_type": "execute_result"
    }
   ],
   "source": [
    "# instantiate and fit the grid\n",
    "grid = GridSearchCV(boost, param_grid, cv=10, scoring='accuracy', return_train_score=False)\n",
    "grid.fit(X, y)"
   ]
  },
  {
   "cell_type": "code",
   "execution_count": 113,
   "metadata": {},
   "outputs": [
    {
     "data": {
      "text/html": [
       "<div>\n",
       "<style scoped>\n",
       "    .dataframe tbody tr th:only-of-type {\n",
       "        vertical-align: middle;\n",
       "    }\n",
       "\n",
       "    .dataframe tbody tr th {\n",
       "        vertical-align: top;\n",
       "    }\n",
       "\n",
       "    .dataframe thead th {\n",
       "        text-align: right;\n",
       "    }\n",
       "</style>\n",
       "<table border=\"1\" class=\"dataframe\">\n",
       "  <thead>\n",
       "    <tr style=\"text-align: right;\">\n",
       "      <th></th>\n",
       "      <th>mean_test_score</th>\n",
       "      <th>std_test_score</th>\n",
       "      <th>params</th>\n",
       "    </tr>\n",
       "  </thead>\n",
       "  <tbody>\n",
       "    <tr>\n",
       "      <td>0</td>\n",
       "      <td>0.569892</td>\n",
       "      <td>0.001258</td>\n",
       "      <td>{'gamma': 0, 'learning_rate': 0, 'max_depth': ...</td>\n",
       "    </tr>\n",
       "    <tr>\n",
       "      <td>1</td>\n",
       "      <td>0.569892</td>\n",
       "      <td>0.001258</td>\n",
       "      <td>{'gamma': 0, 'learning_rate': 0, 'max_depth': ...</td>\n",
       "    </tr>\n",
       "    <tr>\n",
       "      <td>2</td>\n",
       "      <td>0.569892</td>\n",
       "      <td>0.001258</td>\n",
       "      <td>{'gamma': 0, 'learning_rate': 0, 'max_depth': ...</td>\n",
       "    </tr>\n",
       "    <tr>\n",
       "      <td>3</td>\n",
       "      <td>0.569892</td>\n",
       "      <td>0.001258</td>\n",
       "      <td>{'gamma': 0, 'learning_rate': 0, 'max_depth': ...</td>\n",
       "    </tr>\n",
       "    <tr>\n",
       "      <td>4</td>\n",
       "      <td>0.569892</td>\n",
       "      <td>0.001258</td>\n",
       "      <td>{'gamma': 0, 'learning_rate': 0, 'max_depth': ...</td>\n",
       "    </tr>\n",
       "    <tr>\n",
       "      <td>...</td>\n",
       "      <td>...</td>\n",
       "      <td>...</td>\n",
       "      <td>...</td>\n",
       "    </tr>\n",
       "    <tr>\n",
       "      <td>507</td>\n",
       "      <td>0.945639</td>\n",
       "      <td>0.011427</td>\n",
       "      <td>{'gamma': 0, 'learning_rate': 0.03, 'max_depth...</td>\n",
       "    </tr>\n",
       "    <tr>\n",
       "      <td>508</td>\n",
       "      <td>0.945639</td>\n",
       "      <td>0.011427</td>\n",
       "      <td>{'gamma': 0, 'learning_rate': 0.03, 'max_depth...</td>\n",
       "    </tr>\n",
       "    <tr>\n",
       "      <td>509</td>\n",
       "      <td>0.945639</td>\n",
       "      <td>0.011427</td>\n",
       "      <td>{'gamma': 0, 'learning_rate': 0.03, 'max_depth...</td>\n",
       "    </tr>\n",
       "    <tr>\n",
       "      <td>510</td>\n",
       "      <td>0.945639</td>\n",
       "      <td>0.011427</td>\n",
       "      <td>{'gamma': 0, 'learning_rate': 0.03, 'max_depth...</td>\n",
       "    </tr>\n",
       "    <tr>\n",
       "      <td>511</td>\n",
       "      <td>0.945042</td>\n",
       "      <td>0.010891</td>\n",
       "      <td>{'gamma': 0, 'learning_rate': 0.03, 'max_depth...</td>\n",
       "    </tr>\n",
       "  </tbody>\n",
       "</table>\n",
       "<p>512 rows × 3 columns</p>\n",
       "</div>"
      ],
      "text/plain": [
       "     mean_test_score  std_test_score  \\\n",
       "0           0.569892        0.001258   \n",
       "1           0.569892        0.001258   \n",
       "2           0.569892        0.001258   \n",
       "3           0.569892        0.001258   \n",
       "4           0.569892        0.001258   \n",
       "..               ...             ...   \n",
       "507         0.945639        0.011427   \n",
       "508         0.945639        0.011427   \n",
       "509         0.945639        0.011427   \n",
       "510         0.945639        0.011427   \n",
       "511         0.945042        0.010891   \n",
       "\n",
       "                                                params  \n",
       "0    {'gamma': 0, 'learning_rate': 0, 'max_depth': ...  \n",
       "1    {'gamma': 0, 'learning_rate': 0, 'max_depth': ...  \n",
       "2    {'gamma': 0, 'learning_rate': 0, 'max_depth': ...  \n",
       "3    {'gamma': 0, 'learning_rate': 0, 'max_depth': ...  \n",
       "4    {'gamma': 0, 'learning_rate': 0, 'max_depth': ...  \n",
       "..                                                 ...  \n",
       "507  {'gamma': 0, 'learning_rate': 0.03, 'max_depth...  \n",
       "508  {'gamma': 0, 'learning_rate': 0.03, 'max_depth...  \n",
       "509  {'gamma': 0, 'learning_rate': 0.03, 'max_depth...  \n",
       "510  {'gamma': 0, 'learning_rate': 0.03, 'max_depth...  \n",
       "511  {'gamma': 0, 'learning_rate': 0.03, 'max_depth...  \n",
       "\n",
       "[512 rows x 3 columns]"
      ]
     },
     "execution_count": 113,
     "metadata": {},
     "output_type": "execute_result"
    }
   ],
   "source": [
    "# view the results\n",
    "pd.DataFrame(grid.cv_results_)[['mean_test_score', 'std_test_score', 'params']]"
   ]
  },
  {
   "cell_type": "code",
   "execution_count": 114,
   "metadata": {},
   "outputs": [
    {
     "name": "stdout",
     "output_type": "stream",
     "text": [
      "0.9474313022700119\n",
      "{'gamma': 0, 'learning_rate': 0.1, 'max_depth': 2, 'n_estimators': 2}\n"
     ]
    }
   ],
   "source": [
    "# examine the best model\n",
    "print(grid.best_score_)\n",
    "print(grid.best_params_)"
   ]
  },
  {
   "cell_type": "code",
   "execution_count": 115,
   "metadata": {},
   "outputs": [
    {
     "data": {
      "text/plain": [
       "array([0, 0, 0, 1, 0, 1, 0, 0, 1, 1, 0, 0, 0, 1, 1, 1, 0, 0, 0, 1, 1, 0,\n",
       "       0, 0, 0, 0, 0, 1, 1, 1, 0, 0, 0, 0, 1, 1, 0, 0, 0, 1, 0, 0, 1, 0,\n",
       "       0, 0, 0, 0, 0, 1, 0, 1, 0, 1, 1, 0, 0, 0, 0, 1, 0, 1, 0, 1, 0, 0,\n",
       "       0, 0, 1, 0, 0, 1, 1, 0, 0, 1, 0, 0, 0, 1, 1, 1, 0, 0, 0, 1, 0, 0,\n",
       "       0, 0, 1, 1, 0, 1, 1, 0, 0, 0, 1, 1, 0, 1, 0, 1, 0, 0, 0, 1, 1, 1,\n",
       "       1, 0, 1, 1, 1, 1, 1, 0, 1, 0, 1, 0, 0, 1, 1, 0, 0, 1, 0, 1, 0, 0,\n",
       "       1, 1, 0, 1, 1, 0, 1, 0, 0, 0, 1, 0, 1, 0, 0, 0, 0, 0, 1, 1, 0, 0,\n",
       "       0, 1, 1, 0, 1, 1, 0, 1, 1, 1, 1, 1, 0, 1, 1, 0, 1, 1, 1, 0, 0, 1,\n",
       "       1, 1, 0, 1, 0, 1, 0, 0, 1, 1, 0, 0, 0, 0, 1, 0, 0, 1, 1, 0, 1, 0,\n",
       "       1, 0, 0, 1, 1, 1, 1, 0, 0, 0, 1, 0, 0, 1, 0, 0, 1, 0, 1, 0, 0, 0,\n",
       "       0, 0, 1, 1, 0, 0, 1, 0, 1, 0, 0, 1, 0, 1, 0, 0, 0, 0, 0, 1, 0, 1,\n",
       "       1, 0, 0, 0, 1, 0, 0, 0, 1, 0, 0, 0, 1, 0, 0, 0, 1, 0, 0, 0, 0, 0,\n",
       "       0, 1, 0, 1, 0, 0, 0, 1, 0, 1, 0, 1, 0, 0, 1, 0, 1, 0, 0, 0, 1, 0,\n",
       "       1, 1, 0, 0, 1, 0, 0, 0, 0, 1, 0, 0, 0, 1, 1, 1, 0, 0, 0, 0, 1, 1,\n",
       "       0, 0, 0, 0, 0, 0, 0, 1, 1, 0, 1, 0, 0, 1, 1, 0, 1, 0, 0, 1, 1, 0,\n",
       "       1, 0, 0, 0, 0])"
      ]
     },
     "execution_count": 115,
     "metadata": {},
     "output_type": "execute_result"
    }
   ],
   "source": [
    "y_pred = boost.predict(X_test)\n",
    "y_pred"
   ]
  },
  {
   "cell_type": "code",
   "execution_count": 116,
   "metadata": {},
   "outputs": [
    {
     "data": {
      "text/plain": [
       "0.9474322995799446"
      ]
     },
     "execution_count": 116,
     "metadata": {},
     "output_type": "execute_result"
    }
   ],
   "source": [
    "cross_val_score(classifier, X, y, cv=5, scoring='accuracy').mean()"
   ]
  },
  {
   "cell_type": "markdown",
   "metadata": {},
   "source": [
    "## creating classification report"
   ]
  },
  {
   "cell_type": "code",
   "execution_count": 117,
   "metadata": {
    "scrolled": true
   },
   "outputs": [
    {
     "data": {
      "text/plain": [
       "'              precision    recall  f1-score   support\\n\\n           0       0.91      1.00      0.95       181\\n           1       1.00      0.88      0.94       154\\n\\n    accuracy                           0.95       335\\n   macro avg       0.95      0.94      0.95       335\\nweighted avg       0.95      0.95      0.95       335\\n'"
      ]
     },
     "execution_count": 117,
     "metadata": {},
     "output_type": "execute_result"
    }
   ],
   "source": [
    "classification_report(y_test,y_pred)"
   ]
  },
  {
   "cell_type": "markdown",
   "metadata": {},
   "source": [
    "## creating confusion matrix"
   ]
  },
  {
   "cell_type": "code",
   "execution_count": 108,
   "metadata": {},
   "outputs": [
    {
     "data": {
      "text/plain": [
       "array([[181,   0],\n",
       "       [ 18, 136]])"
      ]
     },
     "execution_count": 108,
     "metadata": {},
     "output_type": "execute_result"
    }
   ],
   "source": [
    "cm = confusion_matrix(y_test,y_pred)\n",
    "cm"
   ]
  },
  {
   "cell_type": "code",
   "execution_count": null,
   "metadata": {},
   "outputs": [],
   "source": []
  }
 ],
 "metadata": {
  "kernelspec": {
   "display_name": "Python 3",
   "language": "python",
   "name": "python3"
  },
  "language_info": {
   "codemirror_mode": {
    "name": "ipython",
    "version": 3
   },
   "file_extension": ".py",
   "mimetype": "text/x-python",
   "name": "python",
   "nbconvert_exporter": "python",
   "pygments_lexer": "ipython3",
   "version": "3.7.4"
  }
 },
 "nbformat": 4,
 "nbformat_minor": 2
}
